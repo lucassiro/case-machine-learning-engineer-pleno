{
 "cells": [
  {
   "cell_type": "markdown",
   "metadata": {
    "application/vnd.databricks.v1+cell": {
     "cellMetadata": {
      "byteLimit": 2048000,
      "rowLimit": 10000
     },
     "inputWidgets": {},
     "nuid": "2dc000b4-4d14-4900-960f-51dada7234ff",
     "showTitle": false,
     "title": ""
    }
   },
   "source": [
    "# Desafio Técnico PicPay"
   ]
  },
  {
   "cell_type": "markdown",
   "metadata": {
    "application/vnd.databricks.v1+cell": {
     "cellMetadata": {
      "byteLimit": 2048000,
      "rowLimit": 10000
     },
     "inputWidgets": {},
     "nuid": "c412dea7-5de8-41ef-9924-fdf57c488f35",
     "showTitle": false,
     "title": ""
    }
   },
   "source": [
    "# 1. Upload da base de dados\n",
    "Essa primeira etapa consiste de fazer o upload da base de dados `airports-database.csv` para o databrics.  \n",
    "  \n",
    "Na página inicial do Databrics, podemos clicar em `Create Table`.  \n",
    "![criando tabela](assets/1_create_table.png)  \n",
    "  \n",
    "E realizar o upload do arquivo no Databricks.  \n",
    "![fazendo o upload no databrics](assets/2_upload.png)\n",
    "  \n",
    "O databrics permite que criemos uma tabela por meio da interface gráfica e por meio do notebook (opção escolhida), que será realizada logo abaixo."
   ]
  },
  {
   "cell_type": "markdown",
   "metadata": {
    "application/vnd.databricks.v1+cell": {
     "cellMetadata": {
      "byteLimit": 2048000,
      "rowLimit": 10000
     },
     "inputWidgets": {},
     "nuid": "31e55a3d-60d4-4df8-997d-991ffab04ea9",
     "showTitle": false,
     "title": ""
    }
   },
   "source": [
    "## 1.1. Catálogo de Dados\n",
    "Temos o nosso conjunto de dados no databrics em formato CSV, esse é o nosso dado raw (ou dado bruto), sem qualquer tipo de transformação.  \n",
    "Essa tabela é composta pelas seguintes colunas:\n",
    "| Coluna | Descrição |\n",
    "|---|---|\n",
    "| id | Um identificador único para cada registro de voo. |\n",
    "| year | O ano em que o voo ocorreu (2013 neste conjunto de dados). |\n",
    "| month | O mês em que o voo ocorreu (1 a 12). |\n",
    "| day| O dia do mês em que o voo ocorreu (1 a 31). |\n",
    "| dep_time | O horário local real de partida do voo, no formato 24 horas (hhmm). |\n",
    "| sched_dep_time | O horário local programado de partida do voo, no formato 24 horas (hhmm). |\n",
    "| dep_delay | A diferença entre os horários real e programado de partida do voo, em minutos. Um valor positivo indica uma partida atrasada, enquanto um valor negativo indica uma partida adiantada. |\n",
    "| arr_time | O horário local real de chegada do voo, no formato 24 horas (hhmm). |\n",
    "| sched_arr_time | O horário local programado de chegada do voo, no formato 24 horas (hhmm).|\n",
    "| arr_delay | A diferença entre os horários real e programado de chegada do voo, em minutos. Um valor positivo indica uma chegada atrasada, enquanto um valor negativo indica uma chegada adiantada. |\n",
    "| carrier | O código de duas letras da companhia aérea do voo. |\n",
    "| flight | O número do voo. |\n",
    "| tailnum | O identificador único da aeronave usada no voo. |\n",
    "| origin | O código de três letras do aeroporto de origem do voo. |\n",
    "| dest | O código de três letras do aeroporto de destino do voo. |\n",
    "| air_time | A duração do voo, em minutos. |\n",
    "| distance | A distância entre os aeroportos de origem e destino, em milhas. |\n",
    "| hour | O componente da hora do horário programado de partida, no horário local. |\n",
    "| minute | O componente dos minutos do horário programado de partida, no horário local. |\n",
    "| time_hour | O horário programado de partida do voo, no formato local e de data-hora (yyyy-mm-dd hh)\n",
    "| name | O nome da companhia aérea do voo. |"
   ]
  },
  {
   "cell_type": "markdown",
   "metadata": {
    "application/vnd.databricks.v1+cell": {
     "cellMetadata": {
      "byteLimit": 2048000,
      "rowLimit": 10000
     },
     "inputWidgets": {},
     "nuid": "3b378bfe-f88e-464d-8e33-51d584be31d6",
     "showTitle": false,
     "title": ""
    }
   },
   "source": [
    "# 2. Carga\n",
    "Aqui faremos o carregamento do arquivo para uma tabela delta na camada bronze.  \n",
    "A arquitetura usada aqui é a [arquitetura medallion](https://www.databricks.com/glossary/medallion-architecture).  \n",
    "![medallion architecture](assets/3_medallion_architecture.png)"
   ]
  },
  {
   "cell_type": "code",
   "execution_count": null,
   "metadata": {
    "application/vnd.databricks.v1+cell": {
     "cellMetadata": {
      "byteLimit": 2048000,
      "rowLimit": 10000
     },
     "inputWidgets": {},
     "nuid": "6482be4c-f067-47c9-b0ac-35c938b94601",
     "showTitle": false,
     "title": ""
    }
   },
   "outputs": [
    {
     "data": {
      "text/html": [
       "<style scoped>\n",
       "  .table-result-container {\n",
       "    max-height: 300px;\n",
       "    overflow: auto;\n",
       "  }\n",
       "  table, th, td {\n",
       "    border: 1px solid black;\n",
       "    border-collapse: collapse;\n",
       "  }\n",
       "  th, td {\n",
       "    padding: 5px;\n",
       "  }\n",
       "  th {\n",
       "    text-align: left;\n",
       "  }\n",
       "</style><div class='table-result-container'><table class='table-result'><thead style='background-color: white'><tr><th>id</th><th>year</th><th>month</th><th>day</th><th>dep_time</th><th>sched_dep_time</th><th>dep_delay</th><th>arr_time</th><th>sched_arr_time</th><th>arr_delay</th><th>carrier</th><th>flight</th><th>tailnum</th><th>origin</th><th>dest</th><th>air_time</th><th>distance</th><th>hour</th><th>minute</th><th>time_hour</th><th>name</th></tr></thead><tbody><tr><td>0</td><td>2013</td><td>1</td><td>1</td><td>517.0</td><td>515</td><td>2.0</td><td>830.0</td><td>819</td><td>11.0</td><td>UA</td><td>1545</td><td>N14228</td><td>EWR</td><td>IAH</td><td>227.0</td><td>1400</td><td>5</td><td>15</td><td>2013-01-01 05:00:00</td><td>United Air Lines Inc.</td></tr><tr><td>1</td><td>2013</td><td>1</td><td>1</td><td>533.0</td><td>529</td><td>4.0</td><td>850.0</td><td>830</td><td>20.0</td><td>UA</td><td>1714</td><td>N24211</td><td>LGA</td><td>IAH</td><td>227.0</td><td>1416</td><td>5</td><td>29</td><td>2013-01-01 05:00:00</td><td>United Air Lines Inc.</td></tr><tr><td>2</td><td>2013</td><td>1</td><td>1</td><td>542.0</td><td>540</td><td>2.0</td><td>923.0</td><td>850</td><td>33.0</td><td>AA</td><td>1141</td><td>N619AA</td><td>JFK</td><td>MIA</td><td>160.0</td><td>1089</td><td>5</td><td>40</td><td>2013-01-01 05:00:00</td><td>American Airlines Inc.</td></tr><tr><td>3</td><td>2013</td><td>1</td><td>1</td><td>544.0</td><td>545</td><td>-1.0</td><td>1004.0</td><td>1022</td><td>-18.0</td><td>B6</td><td>725</td><td>N804JB</td><td>JFK</td><td>BQN</td><td>183.0</td><td>1576</td><td>5</td><td>45</td><td>2013-01-01 05:00:00</td><td>JetBlue Airways</td></tr><tr><td>4</td><td>2013</td><td>1</td><td>1</td><td>554.0</td><td>600</td><td>-6.0</td><td>812.0</td><td>837</td><td>-25.0</td><td>DL</td><td>461</td><td>N668DN</td><td>LGA</td><td>ATL</td><td>116.0</td><td>762</td><td>6</td><td>0</td><td>2013-01-01 06:00:00</td><td>Delta Air Lines Inc.</td></tr></tbody></table></div>"
      ]
     },
     "metadata": {
      "application/vnd.databricks.v1+output": {
       "addedWidgets": {},
       "aggData": [],
       "aggError": "",
       "aggOverflow": false,
       "aggSchema": [],
       "aggSeriesLimitReached": false,
       "aggType": "",
       "arguments": {},
       "columnCustomDisplayInfos": {},
       "data": [
        [
         "0",
         "2013",
         "1",
         "1",
         "517.0",
         "515",
         "2.0",
         "830.0",
         "819",
         "11.0",
         "UA",
         "1545",
         "N14228",
         "EWR",
         "IAH",
         "227.0",
         "1400",
         "5",
         "15",
         "2013-01-01 05:00:00",
         "United Air Lines Inc."
        ],
        [
         "1",
         "2013",
         "1",
         "1",
         "533.0",
         "529",
         "4.0",
         "850.0",
         "830",
         "20.0",
         "UA",
         "1714",
         "N24211",
         "LGA",
         "IAH",
         "227.0",
         "1416",
         "5",
         "29",
         "2013-01-01 05:00:00",
         "United Air Lines Inc."
        ],
        [
         "2",
         "2013",
         "1",
         "1",
         "542.0",
         "540",
         "2.0",
         "923.0",
         "850",
         "33.0",
         "AA",
         "1141",
         "N619AA",
         "JFK",
         "MIA",
         "160.0",
         "1089",
         "5",
         "40",
         "2013-01-01 05:00:00",
         "American Airlines Inc."
        ],
        [
         "3",
         "2013",
         "1",
         "1",
         "544.0",
         "545",
         "-1.0",
         "1004.0",
         "1022",
         "-18.0",
         "B6",
         "725",
         "N804JB",
         "JFK",
         "BQN",
         "183.0",
         "1576",
         "5",
         "45",
         "2013-01-01 05:00:00",
         "JetBlue Airways"
        ],
        [
         "4",
         "2013",
         "1",
         "1",
         "554.0",
         "600",
         "-6.0",
         "812.0",
         "837",
         "-25.0",
         "DL",
         "461",
         "N668DN",
         "LGA",
         "ATL",
         "116.0",
         "762",
         "6",
         "0",
         "2013-01-01 06:00:00",
         "Delta Air Lines Inc."
        ]
       ],
       "datasetInfos": [],
       "dbfsResultPath": null,
       "isJsonSchema": true,
       "metadata": {},
       "overflow": false,
       "plotOptions": {
        "customPlotOptions": {},
        "displayType": "table",
        "pivotAggregation": null,
        "pivotColumns": null,
        "xColumns": null,
        "yColumns": null
       },
       "removedWidgets": [],
       "schema": [
        {
         "metadata": "{}",
         "name": "id",
         "type": "\"string\""
        },
        {
         "metadata": "{}",
         "name": "year",
         "type": "\"string\""
        },
        {
         "metadata": "{}",
         "name": "month",
         "type": "\"string\""
        },
        {
         "metadata": "{}",
         "name": "day",
         "type": "\"string\""
        },
        {
         "metadata": "{}",
         "name": "dep_time",
         "type": "\"string\""
        },
        {
         "metadata": "{}",
         "name": "sched_dep_time",
         "type": "\"string\""
        },
        {
         "metadata": "{}",
         "name": "dep_delay",
         "type": "\"string\""
        },
        {
         "metadata": "{}",
         "name": "arr_time",
         "type": "\"string\""
        },
        {
         "metadata": "{}",
         "name": "sched_arr_time",
         "type": "\"string\""
        },
        {
         "metadata": "{}",
         "name": "arr_delay",
         "type": "\"string\""
        },
        {
         "metadata": "{}",
         "name": "carrier",
         "type": "\"string\""
        },
        {
         "metadata": "{}",
         "name": "flight",
         "type": "\"string\""
        },
        {
         "metadata": "{}",
         "name": "tailnum",
         "type": "\"string\""
        },
        {
         "metadata": "{}",
         "name": "origin",
         "type": "\"string\""
        },
        {
         "metadata": "{}",
         "name": "dest",
         "type": "\"string\""
        },
        {
         "metadata": "{}",
         "name": "air_time",
         "type": "\"string\""
        },
        {
         "metadata": "{}",
         "name": "distance",
         "type": "\"string\""
        },
        {
         "metadata": "{}",
         "name": "hour",
         "type": "\"string\""
        },
        {
         "metadata": "{}",
         "name": "minute",
         "type": "\"string\""
        },
        {
         "metadata": "{}",
         "name": "time_hour",
         "type": "\"string\""
        },
        {
         "metadata": "{}",
         "name": "name",
         "type": "\"string\""
        }
       ],
       "type": "table"
      }
     },
     "output_type": "display_data"
    }
   ],
   "source": [
    "# File location and type\n",
    "file_location = \"/FileStore/tables/airports_database.csv\"\n",
    "file_type = \"csv\"\n",
    "\n",
    "# CSV options\n",
    "infer_schema = \"false\"\n",
    "first_row_is_header = \"true\"\n",
    "delimiter = \",\"\n",
    "\n",
    "# The applied options are for CSV files. For other file types, these will be ignored.\n",
    "df = spark.read.format(file_type) \\\n",
    "  .option(\"inferSchema\", infer_schema) \\\n",
    "  .option(\"header\", first_row_is_header) \\\n",
    "  .option(\"sep\", delimiter) \\\n",
    "  .load(file_location)\n",
    "\n",
    "df.limit(5).display()"
   ]
  },
  {
   "cell_type": "code",
   "execution_count": null,
   "metadata": {
    "application/vnd.databricks.v1+cell": {
     "cellMetadata": {
      "byteLimit": 2048000,
      "rowLimit": 10000
     },
     "inputWidgets": {},
     "nuid": "fdc364e4-3c05-4de6-a15a-413d2654f7fc",
     "showTitle": false,
     "title": ""
    }
   },
   "outputs": [
    {
     "name": "stdout",
     "output_type": "stream",
     "text": [
      "root\n",
      " |-- id: string (nullable = true)\n",
      " |-- year: string (nullable = true)\n",
      " |-- month: string (nullable = true)\n",
      " |-- day: string (nullable = true)\n",
      " |-- dep_time: string (nullable = true)\n",
      " |-- sched_dep_time: string (nullable = true)\n",
      " |-- dep_delay: string (nullable = true)\n",
      " |-- arr_time: string (nullable = true)\n",
      " |-- sched_arr_time: string (nullable = true)\n",
      " |-- arr_delay: string (nullable = true)\n",
      " |-- carrier: string (nullable = true)\n",
      " |-- flight: string (nullable = true)\n",
      " |-- tailnum: string (nullable = true)\n",
      " |-- origin: string (nullable = true)\n",
      " |-- dest: string (nullable = true)\n",
      " |-- air_time: string (nullable = true)\n",
      " |-- distance: string (nullable = true)\n",
      " |-- hour: string (nullable = true)\n",
      " |-- minute: string (nullable = true)\n",
      " |-- time_hour: string (nullable = true)\n",
      " |-- name: string (nullable = true)\n",
      "\n"
     ]
    }
   ],
   "source": [
    "df.printSchema()"
   ]
  },
  {
   "cell_type": "markdown",
   "metadata": {
    "application/vnd.databricks.v1+cell": {
     "cellMetadata": {
      "byteLimit": 2048000,
      "rowLimit": 10000
     },
     "inputWidgets": {},
     "nuid": "949b5174-7f86-4381-9160-0d891461a5c2",
     "showTitle": false,
     "title": ""
    }
   },
   "source": [
    "Aqui estarei salvando como uma tabela delta na camada bronze."
   ]
  },
  {
   "cell_type": "code",
   "execution_count": null,
   "metadata": {
    "application/vnd.databricks.v1+cell": {
     "cellMetadata": {
      "byteLimit": 2048000,
      "rowLimit": 10000
     },
     "inputWidgets": {},
     "nuid": "05e5e667-733a-45a8-8ea3-c41df1dbee77",
     "showTitle": false,
     "title": ""
    }
   },
   "outputs": [],
   "source": [
    "df.write \\\n",
    "  .format(\"delta\") \\\n",
    "  .mode(\"overwrite\") \\\n",
    "  .option(\"overwriteSchema\", \"true\") \\\n",
    "  .saveAsTable(\"bronze_airports_database\")"
   ]
  },
  {
   "cell_type": "markdown",
   "metadata": {
    "application/vnd.databricks.v1+cell": {
     "cellMetadata": {
      "byteLimit": 2048000,
      "rowLimit": 10000
     },
     "inputWidgets": {},
     "nuid": "9f215731-1896-4fb6-bda5-9097a55bcfe7",
     "showTitle": false,
     "title": ""
    }
   },
   "source": [
    "Verificando se a nossa tabela foi corretamente criada por meio de uma consulta SQL que seleciona todos os dados da tabela e retorna as 5 primeiras linhas"
   ]
  },
  {
   "cell_type": "code",
   "execution_count": null,
   "metadata": {
    "application/vnd.databricks.v1+cell": {
     "cellMetadata": {
      "byteLimit": 2048000,
      "implicitDf": true,
      "rowLimit": 10000
     },
     "inputWidgets": {},
     "nuid": "b5f66379-6f7f-42ec-8e82-d0e0926a1721",
     "showTitle": false,
     "title": ""
    }
   },
   "outputs": [
    {
     "data": {
      "text/html": [
       "<style scoped>\n",
       "  .table-result-container {\n",
       "    max-height: 300px;\n",
       "    overflow: auto;\n",
       "  }\n",
       "  table, th, td {\n",
       "    border: 1px solid black;\n",
       "    border-collapse: collapse;\n",
       "  }\n",
       "  th, td {\n",
       "    padding: 5px;\n",
       "  }\n",
       "  th {\n",
       "    text-align: left;\n",
       "  }\n",
       "</style><div class='table-result-container'><table class='table-result'><thead style='background-color: white'><tr><th>id</th><th>year</th><th>month</th><th>day</th><th>dep_time</th><th>sched_dep_time</th><th>dep_delay</th><th>arr_time</th><th>sched_arr_time</th><th>arr_delay</th><th>carrier</th><th>flight</th><th>tailnum</th><th>origin</th><th>dest</th><th>air_time</th><th>distance</th><th>hour</th><th>minute</th><th>time_hour</th><th>name</th></tr></thead><tbody><tr><td>0</td><td>2013</td><td>1</td><td>1</td><td>517.0</td><td>515</td><td>2.0</td><td>830.0</td><td>819</td><td>11.0</td><td>UA</td><td>1545</td><td>N14228</td><td>EWR</td><td>IAH</td><td>227.0</td><td>1400</td><td>5</td><td>15</td><td>2013-01-01 05:00:00</td><td>United Air Lines Inc.</td></tr><tr><td>1</td><td>2013</td><td>1</td><td>1</td><td>533.0</td><td>529</td><td>4.0</td><td>850.0</td><td>830</td><td>20.0</td><td>UA</td><td>1714</td><td>N24211</td><td>LGA</td><td>IAH</td><td>227.0</td><td>1416</td><td>5</td><td>29</td><td>2013-01-01 05:00:00</td><td>United Air Lines Inc.</td></tr><tr><td>2</td><td>2013</td><td>1</td><td>1</td><td>542.0</td><td>540</td><td>2.0</td><td>923.0</td><td>850</td><td>33.0</td><td>AA</td><td>1141</td><td>N619AA</td><td>JFK</td><td>MIA</td><td>160.0</td><td>1089</td><td>5</td><td>40</td><td>2013-01-01 05:00:00</td><td>American Airlines Inc.</td></tr><tr><td>3</td><td>2013</td><td>1</td><td>1</td><td>544.0</td><td>545</td><td>-1.0</td><td>1004.0</td><td>1022</td><td>-18.0</td><td>B6</td><td>725</td><td>N804JB</td><td>JFK</td><td>BQN</td><td>183.0</td><td>1576</td><td>5</td><td>45</td><td>2013-01-01 05:00:00</td><td>JetBlue Airways</td></tr><tr><td>4</td><td>2013</td><td>1</td><td>1</td><td>554.0</td><td>600</td><td>-6.0</td><td>812.0</td><td>837</td><td>-25.0</td><td>DL</td><td>461</td><td>N668DN</td><td>LGA</td><td>ATL</td><td>116.0</td><td>762</td><td>6</td><td>0</td><td>2013-01-01 06:00:00</td><td>Delta Air Lines Inc.</td></tr></tbody></table></div>"
      ]
     },
     "metadata": {
      "application/vnd.databricks.v1+output": {
       "addedWidgets": {},
       "aggData": [],
       "aggError": "",
       "aggOverflow": false,
       "aggSchema": [],
       "aggSeriesLimitReached": false,
       "aggType": "",
       "arguments": {},
       "columnCustomDisplayInfos": {},
       "data": [
        [
         "0",
         "2013",
         "1",
         "1",
         "517.0",
         "515",
         "2.0",
         "830.0",
         "819",
         "11.0",
         "UA",
         "1545",
         "N14228",
         "EWR",
         "IAH",
         "227.0",
         "1400",
         "5",
         "15",
         "2013-01-01 05:00:00",
         "United Air Lines Inc."
        ],
        [
         "1",
         "2013",
         "1",
         "1",
         "533.0",
         "529",
         "4.0",
         "850.0",
         "830",
         "20.0",
         "UA",
         "1714",
         "N24211",
         "LGA",
         "IAH",
         "227.0",
         "1416",
         "5",
         "29",
         "2013-01-01 05:00:00",
         "United Air Lines Inc."
        ],
        [
         "2",
         "2013",
         "1",
         "1",
         "542.0",
         "540",
         "2.0",
         "923.0",
         "850",
         "33.0",
         "AA",
         "1141",
         "N619AA",
         "JFK",
         "MIA",
         "160.0",
         "1089",
         "5",
         "40",
         "2013-01-01 05:00:00",
         "American Airlines Inc."
        ],
        [
         "3",
         "2013",
         "1",
         "1",
         "544.0",
         "545",
         "-1.0",
         "1004.0",
         "1022",
         "-18.0",
         "B6",
         "725",
         "N804JB",
         "JFK",
         "BQN",
         "183.0",
         "1576",
         "5",
         "45",
         "2013-01-01 05:00:00",
         "JetBlue Airways"
        ],
        [
         "4",
         "2013",
         "1",
         "1",
         "554.0",
         "600",
         "-6.0",
         "812.0",
         "837",
         "-25.0",
         "DL",
         "461",
         "N668DN",
         "LGA",
         "ATL",
         "116.0",
         "762",
         "6",
         "0",
         "2013-01-01 06:00:00",
         "Delta Air Lines Inc."
        ]
       ],
       "datasetInfos": [],
       "dbfsResultPath": null,
       "isJsonSchema": true,
       "metadata": {},
       "overflow": false,
       "plotOptions": {
        "customPlotOptions": {},
        "displayType": "table",
        "pivotAggregation": null,
        "pivotColumns": null,
        "xColumns": null,
        "yColumns": null
       },
       "removedWidgets": [],
       "schema": [
        {
         "metadata": "{}",
         "name": "id",
         "type": "\"string\""
        },
        {
         "metadata": "{}",
         "name": "year",
         "type": "\"string\""
        },
        {
         "metadata": "{}",
         "name": "month",
         "type": "\"string\""
        },
        {
         "metadata": "{}",
         "name": "day",
         "type": "\"string\""
        },
        {
         "metadata": "{}",
         "name": "dep_time",
         "type": "\"string\""
        },
        {
         "metadata": "{}",
         "name": "sched_dep_time",
         "type": "\"string\""
        },
        {
         "metadata": "{}",
         "name": "dep_delay",
         "type": "\"string\""
        },
        {
         "metadata": "{}",
         "name": "arr_time",
         "type": "\"string\""
        },
        {
         "metadata": "{}",
         "name": "sched_arr_time",
         "type": "\"string\""
        },
        {
         "metadata": "{}",
         "name": "arr_delay",
         "type": "\"string\""
        },
        {
         "metadata": "{}",
         "name": "carrier",
         "type": "\"string\""
        },
        {
         "metadata": "{}",
         "name": "flight",
         "type": "\"string\""
        },
        {
         "metadata": "{}",
         "name": "tailnum",
         "type": "\"string\""
        },
        {
         "metadata": "{}",
         "name": "origin",
         "type": "\"string\""
        },
        {
         "metadata": "{}",
         "name": "dest",
         "type": "\"string\""
        },
        {
         "metadata": "{}",
         "name": "air_time",
         "type": "\"string\""
        },
        {
         "metadata": "{}",
         "name": "distance",
         "type": "\"string\""
        },
        {
         "metadata": "{}",
         "name": "hour",
         "type": "\"string\""
        },
        {
         "metadata": "{}",
         "name": "minute",
         "type": "\"string\""
        },
        {
         "metadata": "{}",
         "name": "time_hour",
         "type": "\"string\""
        },
        {
         "metadata": "{}",
         "name": "name",
         "type": "\"string\""
        }
       ],
       "type": "table"
      }
     },
     "output_type": "display_data"
    }
   ],
   "source": [
    "%sql\n",
    "SELECT * FROM `bronze_airports_database` LIMIT 5;"
   ]
  },
  {
   "cell_type": "markdown",
   "metadata": {
    "application/vnd.databricks.v1+cell": {
     "cellMetadata": {
      "byteLimit": 2048000,
      "rowLimit": 10000
     },
     "inputWidgets": {},
     "nuid": "da7ad72e-52c8-4276-96bf-39da105d8c95",
     "showTitle": false,
     "title": ""
    }
   },
   "source": [
    "Consultando a quantidade de registros na nossa tabela bronze"
   ]
  },
  {
   "cell_type": "code",
   "execution_count": null,
   "metadata": {
    "application/vnd.databricks.v1+cell": {
     "cellMetadata": {
      "byteLimit": 2048000,
      "implicitDf": true,
      "rowLimit": 10000
     },
     "inputWidgets": {},
     "nuid": "697656d8-4ba9-4b76-aba6-597f1f04e4eb",
     "showTitle": false,
     "title": ""
    }
   },
   "outputs": [
    {
     "data": {
      "text/html": [
       "<style scoped>\n",
       "  .table-result-container {\n",
       "    max-height: 300px;\n",
       "    overflow: auto;\n",
       "  }\n",
       "  table, th, td {\n",
       "    border: 1px solid black;\n",
       "    border-collapse: collapse;\n",
       "  }\n",
       "  th, td {\n",
       "    padding: 5px;\n",
       "  }\n",
       "  th {\n",
       "    text-align: left;\n",
       "  }\n",
       "</style><div class='table-result-container'><table class='table-result'><thead style='background-color: white'><tr><th>count(1)</th></tr></thead><tbody><tr><td>336776</td></tr></tbody></table></div>"
      ]
     },
     "metadata": {
      "application/vnd.databricks.v1+output": {
       "addedWidgets": {},
       "aggData": [],
       "aggError": "",
       "aggOverflow": false,
       "aggSchema": [],
       "aggSeriesLimitReached": false,
       "aggType": "",
       "arguments": {},
       "columnCustomDisplayInfos": {},
       "data": [
        [
         336776
        ]
       ],
       "datasetInfos": [],
       "dbfsResultPath": null,
       "isJsonSchema": true,
       "metadata": {},
       "overflow": false,
       "plotOptions": {
        "customPlotOptions": {},
        "displayType": "table",
        "pivotAggregation": null,
        "pivotColumns": null,
        "xColumns": null,
        "yColumns": null
       },
       "removedWidgets": [],
       "schema": [
        {
         "metadata": "{\"__autoGeneratedAlias\":\"true\"}",
         "name": "count(1)",
         "type": "\"long\""
        }
       ],
       "type": "table"
      }
     },
     "output_type": "display_data"
    }
   ],
   "source": [
    "%sql\n",
    "SELECT COUNT(*) FROM `bronze_airports_database`;"
   ]
  },
  {
   "cell_type": "markdown",
   "metadata": {
    "application/vnd.databricks.v1+cell": {
     "cellMetadata": {
      "byteLimit": 2048000,
      "rowLimit": 10000
     },
     "inputWidgets": {},
     "nuid": "6ad91e01-27f4-40c4-b101-b6504402bfbd",
     "showTitle": false,
     "title": ""
    }
   },
   "source": [
    "# 3. Perguntas"
   ]
  },
  {
   "cell_type": "code",
   "execution_count": null,
   "metadata": {
    "application/vnd.databricks.v1+cell": {
     "cellMetadata": {
      "byteLimit": 2048000,
      "rowLimit": 10000
     },
     "inputWidgets": {},
     "nuid": "4c79bc51-54a4-4742-aa00-26b72af24807",
     "showTitle": false,
     "title": ""
    }
   },
   "outputs": [],
   "source": [
    "from pyspark.sql import functions as F\n",
    "from pyspark.sql.functions import col, count, mean, when, round, row_number, stddev\n",
    "from pyspark.sql.window import Window\n",
    "from datetime import datetime"
   ]
  },
  {
   "cell_type": "markdown",
   "metadata": {
    "application/vnd.databricks.v1+cell": {
     "cellMetadata": {
      "byteLimit": 2048000,
      "rowLimit": 10000
     },
     "inputWidgets": {},
     "nuid": "37396b9b-731b-475f-b656-8b802e966abf",
     "showTitle": false,
     "title": ""
    }
   },
   "source": [
    "**1.** Qual é o número total de voos no conjunto de dados?  \n",
    "**Resposta:** O conjunto de dados possui o registro de 336.776 voos."
   ]
  },
  {
   "cell_type": "code",
   "execution_count": null,
   "metadata": {
    "application/vnd.databricks.v1+cell": {
     "cellMetadata": {
      "byteLimit": 2048000,
      "rowLimit": 10000
     },
     "inputWidgets": {},
     "nuid": "7d182096-c849-41e8-b28e-ec462a334453",
     "showTitle": false,
     "title": ""
    }
   },
   "outputs": [
    {
     "name": "stdout",
     "output_type": "stream",
     "text": [
      "Out[10]: 336776"
     ]
    }
   ],
   "source": [
    "df.count()"
   ]
  },
  {
   "cell_type": "markdown",
   "metadata": {
    "application/vnd.databricks.v1+cell": {
     "cellMetadata": {
      "byteLimit": 2048000,
      "rowLimit": 10000
     },
     "inputWidgets": {},
     "nuid": "92387cb5-7b37-4785-91e5-87f889b13663",
     "showTitle": false,
     "title": ""
    }
   },
   "source": [
    "**2.** Quantos voos foram cancelados? (Considerando que voos cancelados têm `dep_time` e `arr_time` nulos)  \n",
    "**Resposta:** 8.255 voos foram cancelados."
   ]
  },
  {
   "cell_type": "code",
   "execution_count": null,
   "metadata": {
    "application/vnd.databricks.v1+cell": {
     "cellMetadata": {
      "byteLimit": 2048000,
      "rowLimit": 10000
     },
     "inputWidgets": {},
     "nuid": "b23c77e4-f248-404e-8ec3-cf269a6101cf",
     "showTitle": false,
     "title": ""
    }
   },
   "outputs": [
    {
     "name": "stdout",
     "output_type": "stream",
     "text": [
      "Out[11]: 8255"
     ]
    }
   ],
   "source": [
    "df.filter(col(\"dep_time\").isNull() & col(\"arr_time\").isNull()).count()"
   ]
  },
  {
   "cell_type": "markdown",
   "metadata": {
    "application/vnd.databricks.v1+cell": {
     "cellMetadata": {
      "byteLimit": 2048000,
      "rowLimit": 10000
     },
     "inputWidgets": {},
     "nuid": "1a16e412-0c73-4d7b-a460-3159e8d8985a",
     "showTitle": false,
     "title": ""
    }
   },
   "source": [
    "**3.** Qual é o atraso médio na partida dos voos (`dep_delay`)?  \n",
    "**Resposta:** O atraso médio é de 12.57 minutos."
   ]
  },
  {
   "cell_type": "markdown",
   "metadata": {
    "application/vnd.databricks.v1+cell": {
     "cellMetadata": {
      "byteLimit": 2048000,
      "rowLimit": 10000
     },
     "inputWidgets": {},
     "nuid": "16f123c1-a7db-488c-898d-27e685ee1fa8",
     "showTitle": false,
     "title": ""
    }
   },
   "source": [
    "Primeiramente, irei criar um dataframe apenas com voos que não foram cancelados. Esse dataframe será usado para responder essa e as próximas perguntas."
   ]
  },
  {
   "cell_type": "code",
   "execution_count": null,
   "metadata": {
    "application/vnd.databricks.v1+cell": {
     "cellMetadata": {
      "byteLimit": 2048000,
      "rowLimit": 10000
     },
     "inputWidgets": {},
     "nuid": "b6e87d49-b2ad-4ea2-a956-90a9c1da4e12",
     "showTitle": false,
     "title": ""
    }
   },
   "outputs": [
    {
     "data": {
      "text/html": [
       "<style scoped>\n",
       "  .table-result-container {\n",
       "    max-height: 300px;\n",
       "    overflow: auto;\n",
       "  }\n",
       "  table, th, td {\n",
       "    border: 1px solid black;\n",
       "    border-collapse: collapse;\n",
       "  }\n",
       "  th, td {\n",
       "    padding: 5px;\n",
       "  }\n",
       "  th {\n",
       "    text-align: left;\n",
       "  }\n",
       "</style><div class='table-result-container'><table class='table-result'><thead style='background-color: white'><tr><th>avg(dep_delay)</th></tr></thead><tbody><tr><td>12.575974736559747</td></tr></tbody></table></div>"
      ]
     },
     "metadata": {
      "application/vnd.databricks.v1+output": {
       "addedWidgets": {},
       "aggData": [],
       "aggError": "",
       "aggOverflow": false,
       "aggSchema": [],
       "aggSeriesLimitReached": false,
       "aggType": "",
       "arguments": {},
       "columnCustomDisplayInfos": {},
       "data": [
        [
         12.575974736559747
        ]
       ],
       "datasetInfos": [],
       "dbfsResultPath": null,
       "isJsonSchema": true,
       "metadata": {},
       "overflow": false,
       "plotOptions": {
        "customPlotOptions": {},
        "displayType": "table",
        "pivotAggregation": null,
        "pivotColumns": null,
        "xColumns": null,
        "yColumns": null
       },
       "removedWidgets": [],
       "schema": [
        {
         "metadata": "{}",
         "name": "avg(dep_delay)",
         "type": "\"double\""
        }
       ],
       "type": "table"
      }
     },
     "output_type": "display_data"
    }
   ],
   "source": [
    "df_voos = df.filter(col(\"dep_time\").isNotNull() & col(\"arr_time\").isNotNull())\n",
    "df_voos.select(mean(col(\"dep_delay\"))).display()"
   ]
  },
  {
   "cell_type": "markdown",
   "metadata": {
    "application/vnd.databricks.v1+cell": {
     "cellMetadata": {
      "byteLimit": 2048000,
      "rowLimit": 10000
     },
     "inputWidgets": {},
     "nuid": "2a0515dd-7293-42b6-8948-2a85717a0d71",
     "showTitle": false,
     "title": ""
    }
   },
   "source": [
    "**4.** Quais são os 5 aeroportos com maior número de pousos?"
   ]
  },
  {
   "cell_type": "code",
   "execution_count": null,
   "metadata": {
    "application/vnd.databricks.v1+cell": {
     "cellMetadata": {
      "byteLimit": 2048000,
      "rowLimit": 10000
     },
     "inputWidgets": {},
     "nuid": "cf0d3672-8d20-4972-b4d7-bbde8551b35b",
     "showTitle": false,
     "title": ""
    }
   },
   "outputs": [
    {
     "data": {
      "text/html": [
       "<style scoped>\n",
       "  .table-result-container {\n",
       "    max-height: 300px;\n",
       "    overflow: auto;\n",
       "  }\n",
       "  table, th, td {\n",
       "    border: 1px solid black;\n",
       "    border-collapse: collapse;\n",
       "  }\n",
       "  th, td {\n",
       "    padding: 5px;\n",
       "  }\n",
       "  th {\n",
       "    text-align: left;\n",
       "  }\n",
       "</style><div class='table-result-container'><table class='table-result'><thead style='background-color: white'><tr><th>dest</th><th>count</th></tr></thead><tbody><tr><td>ATL</td><td>16873</td></tr><tr><td>ORD</td><td>16607</td></tr><tr><td>LAX</td><td>16058</td></tr><tr><td>BOS</td><td>15028</td></tr><tr><td>MCO</td><td>13979</td></tr></tbody></table></div>"
      ]
     },
     "metadata": {
      "application/vnd.databricks.v1+output": {
       "addedWidgets": {},
       "aggData": [],
       "aggError": "",
       "aggOverflow": false,
       "aggSchema": [],
       "aggSeriesLimitReached": false,
       "aggType": "",
       "arguments": {},
       "columnCustomDisplayInfos": {},
       "data": [
        [
         "ATL",
         16873
        ],
        [
         "ORD",
         16607
        ],
        [
         "LAX",
         16058
        ],
        [
         "BOS",
         15028
        ],
        [
         "MCO",
         13979
        ]
       ],
       "datasetInfos": [],
       "dbfsResultPath": null,
       "isJsonSchema": true,
       "metadata": {},
       "overflow": false,
       "plotOptions": {
        "customPlotOptions": {},
        "displayType": "table",
        "pivotAggregation": null,
        "pivotColumns": null,
        "xColumns": null,
        "yColumns": null
       },
       "removedWidgets": [],
       "schema": [
        {
         "metadata": "{}",
         "name": "dest",
         "type": "\"string\""
        },
        {
         "metadata": "{}",
         "name": "count",
         "type": "\"long\""
        }
       ],
       "type": "table"
      }
     },
     "output_type": "display_data"
    }
   ],
   "source": [
    "df_voos.groupBy('dest').count().sort('count', ascending=False).limit(5).display()"
   ]
  },
  {
   "cell_type": "markdown",
   "metadata": {
    "application/vnd.databricks.v1+cell": {
     "cellMetadata": {
      "byteLimit": 2048000,
      "rowLimit": 10000
     },
     "inputWidgets": {},
     "nuid": "183e55a8-fcc7-46cb-9437-ae2ee33f5818",
     "showTitle": false,
     "title": ""
    }
   },
   "source": [
    "**5.** Qual é a rota mais frequente (par origin-dest)?  \n",
    "**Resposta:** A rota mais frequente é a de JFK para LAX com 11.182 voos."
   ]
  },
  {
   "cell_type": "code",
   "execution_count": null,
   "metadata": {
    "application/vnd.databricks.v1+cell": {
     "cellMetadata": {
      "byteLimit": 2048000,
      "rowLimit": 10000
     },
     "inputWidgets": {},
     "nuid": "71ef5f93-cb1d-4efb-bcd2-42cac6a23271",
     "showTitle": false,
     "title": ""
    }
   },
   "outputs": [
    {
     "data": {
      "text/html": [
       "<style scoped>\n",
       "  .table-result-container {\n",
       "    max-height: 300px;\n",
       "    overflow: auto;\n",
       "  }\n",
       "  table, th, td {\n",
       "    border: 1px solid black;\n",
       "    border-collapse: collapse;\n",
       "  }\n",
       "  th, td {\n",
       "    padding: 5px;\n",
       "  }\n",
       "  th {\n",
       "    text-align: left;\n",
       "  }\n",
       "</style><div class='table-result-container'><table class='table-result'><thead style='background-color: white'><tr><th>origin</th><th>dest</th><th>count</th></tr></thead><tbody><tr><td>JFK</td><td>LAX</td><td>11182</td></tr></tbody></table></div>"
      ]
     },
     "metadata": {
      "application/vnd.databricks.v1+output": {
       "addedWidgets": {},
       "aggData": [],
       "aggError": "",
       "aggOverflow": false,
       "aggSchema": [],
       "aggSeriesLimitReached": false,
       "aggType": "",
       "arguments": {},
       "columnCustomDisplayInfos": {},
       "data": [
        [
         "JFK",
         "LAX",
         11182
        ]
       ],
       "datasetInfos": [],
       "dbfsResultPath": null,
       "isJsonSchema": true,
       "metadata": {},
       "overflow": false,
       "plotOptions": {
        "customPlotOptions": {},
        "displayType": "table",
        "pivotAggregation": null,
        "pivotColumns": null,
        "xColumns": null,
        "yColumns": null
       },
       "removedWidgets": [],
       "schema": [
        {
         "metadata": "{}",
         "name": "origin",
         "type": "\"string\""
        },
        {
         "metadata": "{}",
         "name": "dest",
         "type": "\"string\""
        },
        {
         "metadata": "{}",
         "name": "count",
         "type": "\"long\""
        }
       ],
       "type": "table"
      }
     },
     "output_type": "display_data"
    }
   ],
   "source": [
    "df_voos.groupBy(['origin', 'dest']).count().sort('count', ascending=False).limit(1).display()"
   ]
  },
  {
   "cell_type": "markdown",
   "metadata": {
    "application/vnd.databricks.v1+cell": {
     "cellMetadata": {
      "byteLimit": 2048000,
      "rowLimit": 10000
     },
     "inputWidgets": {},
     "nuid": "a5fccf88-c651-4a59-8640-58998e5f6598",
     "showTitle": false,
     "title": ""
    }
   },
   "source": [
    "**6.** Quais são as 5 companhias aéreas com maior tempo médio de atraso na chegada? (Exiba também o tempo)"
   ]
  },
  {
   "cell_type": "code",
   "execution_count": null,
   "metadata": {
    "application/vnd.databricks.v1+cell": {
     "cellMetadata": {
      "byteLimit": 2048000,
      "rowLimit": 10000
     },
     "inputWidgets": {},
     "nuid": "cc30b261-5c70-4f33-9367-086f538e869b",
     "showTitle": false,
     "title": ""
    }
   },
   "outputs": [
    {
     "data": {
      "text/html": [
       "<style scoped>\n",
       "  .table-result-container {\n",
       "    max-height: 300px;\n",
       "    overflow: auto;\n",
       "  }\n",
       "  table, th, td {\n",
       "    border: 1px solid black;\n",
       "    border-collapse: collapse;\n",
       "  }\n",
       "  th, td {\n",
       "    padding: 5px;\n",
       "  }\n",
       "  th {\n",
       "    text-align: left;\n",
       "  }\n",
       "</style><div class='table-result-container'><table class='table-result'><thead style='background-color: white'><tr><th>name</th><th>avg(arr_delay)</th></tr></thead><tbody><tr><td>Frontier Airlines Inc.</td><td>21.920704845814978</td></tr><tr><td>AirTran Airways Corporation</td><td>20.115905511811025</td></tr><tr><td>ExpressJet Airlines Inc.</td><td>15.79643108710965</td></tr><tr><td>Mesa Airlines Inc.</td><td>15.556985294117647</td></tr><tr><td>SkyWest Airlines Inc.</td><td>11.931034482758621</td></tr></tbody></table></div>"
      ]
     },
     "metadata": {
      "application/vnd.databricks.v1+output": {
       "addedWidgets": {},
       "aggData": [],
       "aggError": "",
       "aggOverflow": false,
       "aggSchema": [],
       "aggSeriesLimitReached": false,
       "aggType": "",
       "arguments": {},
       "columnCustomDisplayInfos": {},
       "data": [
        [
         "Frontier Airlines Inc.",
         21.920704845814978
        ],
        [
         "AirTran Airways Corporation",
         20.115905511811025
        ],
        [
         "ExpressJet Airlines Inc.",
         15.79643108710965
        ],
        [
         "Mesa Airlines Inc.",
         15.556985294117647
        ],
        [
         "SkyWest Airlines Inc.",
         11.931034482758621
        ]
       ],
       "datasetInfos": [],
       "dbfsResultPath": null,
       "isJsonSchema": true,
       "metadata": {},
       "overflow": false,
       "plotOptions": {
        "customPlotOptions": {},
        "displayType": "table",
        "pivotAggregation": null,
        "pivotColumns": null,
        "xColumns": null,
        "yColumns": null
       },
       "removedWidgets": [],
       "schema": [
        {
         "metadata": "{}",
         "name": "name",
         "type": "\"string\""
        },
        {
         "metadata": "{}",
         "name": "avg(arr_delay)",
         "type": "\"double\""
        }
       ],
       "type": "table"
      }
     },
     "output_type": "display_data"
    }
   ],
   "source": [
    "df_voos.groupBy('name').agg(mean('arr_delay')).sort('avg(arr_delay)', ascending=False).limit(5).display()"
   ]
  },
  {
   "cell_type": "markdown",
   "metadata": {
    "application/vnd.databricks.v1+cell": {
     "cellMetadata": {
      "byteLimit": 2048000,
      "rowLimit": 10000
     },
     "inputWidgets": {},
     "nuid": "9ef9f5ab-4a15-4a8f-98e4-7ba3c74276ab",
     "showTitle": false,
     "title": ""
    }
   },
   "source": [
    "**7.** Qual é o dia da semana com maior número de voos?  \n",
    "**Resposta:** O dia da semana com mais voos é Segunda."
   ]
  },
  {
   "cell_type": "code",
   "execution_count": null,
   "metadata": {
    "application/vnd.databricks.v1+cell": {
     "cellMetadata": {
      "byteLimit": 2048000,
      "rowLimit": 10000
     },
     "inputWidgets": {},
     "nuid": "4ab390cb-d288-4817-8f6a-a5431603c920",
     "showTitle": false,
     "title": ""
    }
   },
   "outputs": [
    {
     "data": {
      "text/html": [
       "<style scoped>\n",
       "  .table-result-container {\n",
       "    max-height: 300px;\n",
       "    overflow: auto;\n",
       "  }\n",
       "  table, th, td {\n",
       "    border: 1px solid black;\n",
       "    border-collapse: collapse;\n",
       "  }\n",
       "  th, td {\n",
       "    padding: 5px;\n",
       "  }\n",
       "  th {\n",
       "    text-align: left;\n",
       "  }\n",
       "</style><div class='table-result-container'><table class='table-result'><thead style='background-color: white'><tr><th>weekday</th><th>count</th></tr></thead><tbody><tr><td>0</td><td>49398</td></tr></tbody></table></div>"
      ]
     },
     "metadata": {
      "application/vnd.databricks.v1+output": {
       "addedWidgets": {},
       "aggData": [],
       "aggError": "",
       "aggOverflow": false,
       "aggSchema": [],
       "aggSeriesLimitReached": false,
       "aggType": "",
       "arguments": {},
       "columnCustomDisplayInfos": {},
       "data": [
        [
         "0",
         49398
        ]
       ],
       "datasetInfos": [],
       "dbfsResultPath": null,
       "isJsonSchema": true,
       "metadata": {},
       "overflow": false,
       "plotOptions": {
        "customPlotOptions": {},
        "displayType": "table",
        "pivotAggregation": null,
        "pivotColumns": null,
        "xColumns": null,
        "yColumns": null
       },
       "removedWidgets": [],
       "schema": [
        {
         "metadata": "{}",
         "name": "weekday",
         "type": "\"string\""
        },
        {
         "metadata": "{}",
         "name": "count",
         "type": "\"long\""
        }
       ],
       "type": "table"
      }
     },
     "output_type": "display_data"
    }
   ],
   "source": [
    "def get_weekday(date):\n",
    "    \"\"\"\n",
    "    Retorna o dia da semana, onde Segunda é 0 e Domingo é 6\n",
    "    \"\"\"\n",
    "    date = datetime.strptime(date, \"%Y-%m-%d %H:%M:%S\")\n",
    "    return date.weekday()\n",
    "\n",
    "udf_function = udf(lambda date: get_weekday(date))\n",
    "\n",
    "df_voos = df_voos.withColumn('weekday', udf_function(df[\"time_hour\"]))\n",
    "\n",
    "# agrupando por dia da semana, contando a quantidade e retornando o resultado com o maior valor\n",
    "df_voos.groupBy('weekday').count().sort('count', ascending=False).limit(1).display()"
   ]
  },
  {
   "cell_type": "markdown",
   "metadata": {
    "application/vnd.databricks.v1+cell": {
     "cellMetadata": {
      "byteLimit": 2048000,
      "rowLimit": 10000
     },
     "inputWidgets": {},
     "nuid": "5f706cbd-2c2c-478f-88c8-2629e7ee91f0",
     "showTitle": false,
     "title": ""
    }
   },
   "source": [
    "**8.** Qual o percentual mensal dos voos tiveram atraso na partida superior a 30 minutos?"
   ]
  },
  {
   "cell_type": "code",
   "execution_count": null,
   "metadata": {
    "application/vnd.databricks.v1+cell": {
     "cellMetadata": {
      "byteLimit": 2048000,
      "rowLimit": 10000
     },
     "inputWidgets": {},
     "nuid": "3aa61cec-b797-404b-860b-4528af9f33bf",
     "showTitle": false,
     "title": ""
    }
   },
   "outputs": [
    {
     "data": {
      "text/html": [
       "<style scoped>\n",
       "  .table-result-container {\n",
       "    max-height: 300px;\n",
       "    overflow: auto;\n",
       "  }\n",
       "  table, th, td {\n",
       "    border: 1px solid black;\n",
       "    border-collapse: collapse;\n",
       "  }\n",
       "  th, td {\n",
       "    padding: 5px;\n",
       "  }\n",
       "  th {\n",
       "    text-align: left;\n",
       "  }\n",
       "</style><div class='table-result-container'><table class='table-result'><thead style='background-color: white'><tr><th>month</th><th>total_count</th><th>greater_than_30_count</th><th>percentage</th></tr></thead><tbody><tr><td>7</td><td>28382</td><td>6117</td><td>21.55</td></tr><tr><td>6</td><td>27171</td><td>5684</td><td>20.92</td></tr><tr><td>12</td><td>27076</td><td>4852</td><td>17.92</td></tr><tr><td>4</td><td>27620</td><td>4507</td><td>16.32</td></tr><tr><td>5</td><td>28195</td><td>4399</td><td>15.6</td></tr><tr><td>3</td><td>27943</td><td>4295</td><td>15.37</td></tr><tr><td>8</td><td>28821</td><td>4233</td><td>14.69</td></tr><tr><td>2</td><td>23660</td><td>3172</td><td>13.41</td></tr><tr><td>1</td><td>26468</td><td>3345</td><td>12.64</td></tr><tr><td>10</td><td>28642</td><td>2693</td><td>9.4</td></tr><tr><td>9</td><td>27070</td><td>2393</td><td>8.84</td></tr><tr><td>11</td><td>27015</td><td>2385</td><td>8.83</td></tr></tbody></table></div>"
      ]
     },
     "metadata": {
      "application/vnd.databricks.v1+output": {
       "addedWidgets": {},
       "aggData": [],
       "aggError": "",
       "aggOverflow": false,
       "aggSchema": [],
       "aggSeriesLimitReached": false,
       "aggType": "",
       "arguments": {},
       "columnCustomDisplayInfos": {},
       "data": [
        [
         "7",
         28382,
         6117,
         21.55
        ],
        [
         "6",
         27171,
         5684,
         20.92
        ],
        [
         "12",
         27076,
         4852,
         17.92
        ],
        [
         "4",
         27620,
         4507,
         16.32
        ],
        [
         "5",
         28195,
         4399,
         15.6
        ],
        [
         "3",
         27943,
         4295,
         15.37
        ],
        [
         "8",
         28821,
         4233,
         14.69
        ],
        [
         "2",
         23660,
         3172,
         13.41
        ],
        [
         "1",
         26468,
         3345,
         12.64
        ],
        [
         "10",
         28642,
         2693,
         9.4
        ],
        [
         "9",
         27070,
         2393,
         8.84
        ],
        [
         "11",
         27015,
         2385,
         8.83
        ]
       ],
       "datasetInfos": [],
       "dbfsResultPath": null,
       "isJsonSchema": true,
       "metadata": {},
       "overflow": false,
       "plotOptions": {
        "customPlotOptions": {},
        "displayType": "table",
        "pivotAggregation": null,
        "pivotColumns": null,
        "xColumns": null,
        "yColumns": null
       },
       "removedWidgets": [],
       "schema": [
        {
         "metadata": "{}",
         "name": "month",
         "type": "\"string\""
        },
        {
         "metadata": "{}",
         "name": "total_count",
         "type": "\"long\""
        },
        {
         "metadata": "{}",
         "name": "greater_than_30_count",
         "type": "\"long\""
        },
        {
         "metadata": "{}",
         "name": "percentage",
         "type": "\"double\""
        }
       ],
       "type": "table"
      }
     },
     "output_type": "display_data"
    }
   ],
   "source": [
    "monthly_counts = df_voos.groupBy(\"month\") \\\n",
    "    .agg(\n",
    "        count(\"*\").alias(\"total_count\"),\n",
    "        count(when(col(\"dep_delay\") > 30, True)).alias(\"greater_than_30_count\")\n",
    "    )\n",
    "\n",
    "monthly_percentage = monthly_counts.withColumn(\n",
    "    \"percentage\", round((col(\"greater_than_30_count\") / col(\"total_count\")) * 100, 2)\n",
    ")\n",
    "\n",
    "monthly_percentage.sort(\"percentage\", ascending=False).display()"
   ]
  },
  {
   "cell_type": "markdown",
   "metadata": {
    "application/vnd.databricks.v1+cell": {
     "cellMetadata": {
      "byteLimit": 2048000,
      "rowLimit": 10000
     },
     "inputWidgets": {},
     "nuid": "91607346-0414-4baf-972d-ce3974d96f5a",
     "showTitle": false,
     "title": ""
    }
   },
   "source": [
    "**9.** Qual a origem mais comum para voos que pousaram em Seattle (SEA)?  \n",
    "**Resposta:** A origem mais comum é de JFK."
   ]
  },
  {
   "cell_type": "code",
   "execution_count": null,
   "metadata": {
    "application/vnd.databricks.v1+cell": {
     "cellMetadata": {
      "byteLimit": 2048000,
      "rowLimit": 10000
     },
     "inputWidgets": {},
     "nuid": "a275e584-1717-4d99-b489-3c72651799bb",
     "showTitle": false,
     "title": ""
    }
   },
   "outputs": [
    {
     "data": {
      "text/html": [
       "<style scoped>\n",
       "  .table-result-container {\n",
       "    max-height: 300px;\n",
       "    overflow: auto;\n",
       "  }\n",
       "  table, th, td {\n",
       "    border: 1px solid black;\n",
       "    border-collapse: collapse;\n",
       "  }\n",
       "  th, td {\n",
       "    padding: 5px;\n",
       "  }\n",
       "  th {\n",
       "    text-align: left;\n",
       "  }\n",
       "</style><div class='table-result-container'><table class='table-result'><thead style='background-color: white'><tr><th>origin</th><th>count</th></tr></thead><tbody><tr><td>JFK</td><td>2079</td></tr></tbody></table></div>"
      ]
     },
     "metadata": {
      "application/vnd.databricks.v1+output": {
       "addedWidgets": {},
       "aggData": [],
       "aggError": "",
       "aggOverflow": false,
       "aggSchema": [],
       "aggSeriesLimitReached": false,
       "aggType": "",
       "arguments": {},
       "columnCustomDisplayInfos": {},
       "data": [
        [
         "JFK",
         2079
        ]
       ],
       "datasetInfos": [],
       "dbfsResultPath": null,
       "isJsonSchema": true,
       "metadata": {},
       "overflow": false,
       "plotOptions": {
        "customPlotOptions": {},
        "displayType": "table",
        "pivotAggregation": null,
        "pivotColumns": null,
        "xColumns": null,
        "yColumns": null
       },
       "removedWidgets": [],
       "schema": [
        {
         "metadata": "{}",
         "name": "origin",
         "type": "\"string\""
        },
        {
         "metadata": "{}",
         "name": "count",
         "type": "\"long\""
        }
       ],
       "type": "table"
      }
     },
     "output_type": "display_data"
    }
   ],
   "source": [
    "seattle_dest = df_voos.filter(df_voos.dest == \"SEA\")\n",
    "seattle_dest.groupBy(\"origin\").count().sort(\"count\", ascending=False).limit(1).display()"
   ]
  },
  {
   "cell_type": "markdown",
   "metadata": {
    "application/vnd.databricks.v1+cell": {
     "cellMetadata": {
      "byteLimit": 2048000,
      "rowLimit": 10000
     },
     "inputWidgets": {},
     "nuid": "00ba48c7-fedb-4753-a472-fd71044de355",
     "showTitle": false,
     "title": ""
    }
   },
   "source": [
    "**10.** Qual é a média de atraso na partida dos voos (`dep_delay`) para cada dia da semana?"
   ]
  },
  {
   "cell_type": "code",
   "execution_count": null,
   "metadata": {
    "application/vnd.databricks.v1+cell": {
     "cellMetadata": {
      "byteLimit": 2048000,
      "rowLimit": 10000
     },
     "inputWidgets": {},
     "nuid": "09129dc1-60bf-4126-890f-ca8d0ed99239",
     "showTitle": false,
     "title": ""
    }
   },
   "outputs": [
    {
     "data": {
      "text/html": [
       "<style scoped>\n",
       "  .table-result-container {\n",
       "    max-height: 300px;\n",
       "    overflow: auto;\n",
       "  }\n",
       "  table, th, td {\n",
       "    border: 1px solid black;\n",
       "    border-collapse: collapse;\n",
       "  }\n",
       "  th, td {\n",
       "    padding: 5px;\n",
       "  }\n",
       "  th {\n",
       "    text-align: left;\n",
       "  }\n",
       "</style><div class='table-result-container'><table class='table-result'><thead style='background-color: white'><tr><th>weekday</th><th>avg(dep_delay)</th></tr></thead><tbody><tr><td>3</td><td>16.064836929665624</td></tr><tr><td>0</td><td>14.734220008907243</td></tr><tr><td>4</td><td>14.660643065663418</td></tr><tr><td>2</td><td>11.699197998071913</td></tr><tr><td>6</td><td>11.495974376412258</td></tr><tr><td>1</td><td>10.591532413709038</td></tr><tr><td>5</td><td>7.620118218281613</td></tr></tbody></table></div>"
      ]
     },
     "metadata": {
      "application/vnd.databricks.v1+output": {
       "addedWidgets": {},
       "aggData": [],
       "aggError": "",
       "aggOverflow": false,
       "aggSchema": [],
       "aggSeriesLimitReached": false,
       "aggType": "",
       "arguments": {},
       "columnCustomDisplayInfos": {},
       "data": [
        [
         "3",
         16.064836929665624
        ],
        [
         "0",
         14.734220008907243
        ],
        [
         "4",
         14.660643065663418
        ],
        [
         "2",
         11.699197998071913
        ],
        [
         "6",
         11.495974376412258
        ],
        [
         "1",
         10.591532413709038
        ],
        [
         "5",
         7.620118218281613
        ]
       ],
       "datasetInfos": [],
       "dbfsResultPath": null,
       "isJsonSchema": true,
       "metadata": {},
       "overflow": false,
       "plotOptions": {
        "customPlotOptions": {},
        "displayType": "table",
        "pivotAggregation": null,
        "pivotColumns": null,
        "xColumns": null,
        "yColumns": null
       },
       "removedWidgets": [],
       "schema": [
        {
         "metadata": "{}",
         "name": "weekday",
         "type": "\"string\""
        },
        {
         "metadata": "{}",
         "name": "avg(dep_delay)",
         "type": "\"double\""
        }
       ],
       "type": "table"
      }
     },
     "output_type": "display_data"
    }
   ],
   "source": [
    "df_voos.groupBy('weekday').agg(mean('dep_delay')).sort('avg(dep_delay)', ascending=False).display()"
   ]
  },
  {
   "cell_type": "markdown",
   "metadata": {
    "application/vnd.databricks.v1+cell": {
     "cellMetadata": {
      "byteLimit": 2048000,
      "rowLimit": 10000
     },
     "inputWidgets": {},
     "nuid": "d2d7a80c-0475-4a39-8257-4b5b3349f613",
     "showTitle": false,
     "title": ""
    }
   },
   "source": [
    "**11.** Qual é a rota que teve o maior tempo de voo médio (`air_time`)?  \n",
    "**Resposta:** A rota com o maior tempo é a rota JFK -> HNL com tempo médio de 623 minutos."
   ]
  },
  {
   "cell_type": "code",
   "execution_count": null,
   "metadata": {
    "application/vnd.databricks.v1+cell": {
     "cellMetadata": {
      "byteLimit": 2048000,
      "rowLimit": 10000
     },
     "inputWidgets": {},
     "nuid": "92bc2c8d-16e6-4222-9ac3-e8ee036165e0",
     "showTitle": false,
     "title": ""
    }
   },
   "outputs": [
    {
     "data": {
      "text/html": [
       "<style scoped>\n",
       "  .table-result-container {\n",
       "    max-height: 300px;\n",
       "    overflow: auto;\n",
       "  }\n",
       "  table, th, td {\n",
       "    border: 1px solid black;\n",
       "    border-collapse: collapse;\n",
       "  }\n",
       "  th, td {\n",
       "    padding: 5px;\n",
       "  }\n",
       "  th {\n",
       "    text-align: left;\n",
       "  }\n",
       "</style><div class='table-result-container'><table class='table-result'><thead style='background-color: white'><tr><th>origin</th><th>dest</th><th>avg(air_time)</th></tr></thead><tbody><tr><td>JFK</td><td>HNL</td><td>623.0877192982456</td></tr></tbody></table></div>"
      ]
     },
     "metadata": {
      "application/vnd.databricks.v1+output": {
       "addedWidgets": {},
       "aggData": [],
       "aggError": "",
       "aggOverflow": false,
       "aggSchema": [],
       "aggSeriesLimitReached": false,
       "aggType": "",
       "arguments": {},
       "columnCustomDisplayInfos": {},
       "data": [
        [
         "JFK",
         "HNL",
         623.0877192982456
        ]
       ],
       "datasetInfos": [],
       "dbfsResultPath": null,
       "isJsonSchema": true,
       "metadata": {},
       "overflow": false,
       "plotOptions": {
        "customPlotOptions": {},
        "displayType": "table",
        "pivotAggregation": null,
        "pivotColumns": null,
        "xColumns": null,
        "yColumns": null
       },
       "removedWidgets": [],
       "schema": [
        {
         "metadata": "{}",
         "name": "origin",
         "type": "\"string\""
        },
        {
         "metadata": "{}",
         "name": "dest",
         "type": "\"string\""
        },
        {
         "metadata": "{}",
         "name": "avg(air_time)",
         "type": "\"double\""
        }
       ],
       "type": "table"
      }
     },
     "output_type": "display_data"
    }
   ],
   "source": [
    "df_voos.groupBy([\"origin\", \"dest\"]).agg(mean('air_time')).sort('avg(air_time)', ascending=False).limit(1).display()"
   ]
  },
  {
   "cell_type": "markdown",
   "metadata": {
    "application/vnd.databricks.v1+cell": {
     "cellMetadata": {
      "byteLimit": 2048000,
      "rowLimit": 10000
     },
     "inputWidgets": {},
     "nuid": "cf071739-d143-45ed-b861-359645dd28c1",
     "showTitle": false,
     "title": ""
    }
   },
   "source": [
    "**12.** Para cada aeroporto de origem, qual é o aeroporto de destino mais comum?"
   ]
  },
  {
   "cell_type": "code",
   "execution_count": null,
   "metadata": {
    "application/vnd.databricks.v1+cell": {
     "cellMetadata": {
      "byteLimit": 2048000,
      "rowLimit": 10000
     },
     "inputWidgets": {},
     "nuid": "fc9069fb-e94b-44a3-b7c2-168b96254286",
     "showTitle": false,
     "title": ""
    }
   },
   "outputs": [
    {
     "data": {
      "text/html": [
       "<style scoped>\n",
       "  .table-result-container {\n",
       "    max-height: 300px;\n",
       "    overflow: auto;\n",
       "  }\n",
       "  table, th, td {\n",
       "    border: 1px solid black;\n",
       "    border-collapse: collapse;\n",
       "  }\n",
       "  th, td {\n",
       "    padding: 5px;\n",
       "  }\n",
       "  th {\n",
       "    text-align: left;\n",
       "  }\n",
       "</style><div class='table-result-container'><table class='table-result'><thead style='background-color: white'><tr><th>origin</th><th>dest</th><th>count</th></tr></thead><tbody><tr><td>EWR</td><td>ORD</td><td>5841</td></tr><tr><td>JFK</td><td>LAX</td><td>11182</td></tr><tr><td>LGA</td><td>ATL</td><td>10063</td></tr></tbody></table></div>"
      ]
     },
     "metadata": {
      "application/vnd.databricks.v1+output": {
       "addedWidgets": {},
       "aggData": [],
       "aggError": "",
       "aggOverflow": false,
       "aggSchema": [],
       "aggSeriesLimitReached": false,
       "aggType": "",
       "arguments": {},
       "columnCustomDisplayInfos": {},
       "data": [
        [
         "EWR",
         "ORD",
         5841
        ],
        [
         "JFK",
         "LAX",
         11182
        ],
        [
         "LGA",
         "ATL",
         10063
        ]
       ],
       "datasetInfos": [],
       "dbfsResultPath": null,
       "isJsonSchema": true,
       "metadata": {},
       "overflow": false,
       "plotOptions": {
        "customPlotOptions": {},
        "displayType": "table",
        "pivotAggregation": null,
        "pivotColumns": null,
        "xColumns": null,
        "yColumns": null
       },
       "removedWidgets": [],
       "schema": [
        {
         "metadata": "{}",
         "name": "origin",
         "type": "\"string\""
        },
        {
         "metadata": "{}",
         "name": "dest",
         "type": "\"string\""
        },
        {
         "metadata": "{}",
         "name": "count",
         "type": "\"long\""
        }
       ],
       "type": "table"
      }
     },
     "output_type": "display_data"
    }
   ],
   "source": [
    "destination_counts = df_voos.groupBy(\"origin\", \"dest\").agg(\n",
    "    count(\"*\").alias(\"count\")\n",
    ")\n",
    "\n",
    "window_spec = Window.partitionBy(\"origin\").orderBy(col(\"count\").desc())\n",
    "destination_counts.withColumn(\n",
    "    \"rank\", row_number().over(window_spec)\n",
    ").filter(col(\"rank\") == 1).drop(\"rank\").display()"
   ]
  },
  {
   "cell_type": "markdown",
   "metadata": {
    "application/vnd.databricks.v1+cell": {
     "cellMetadata": {
      "byteLimit": 2048000,
      "rowLimit": 10000
     },
     "inputWidgets": {},
     "nuid": "5e151a3e-6f5d-4c82-b3ce-6e2bba4ca2a1",
     "showTitle": false,
     "title": ""
    }
   },
   "source": [
    "**13.** Quais são as 3 rotas que tiveram a maior variação no tempo médio de voo (`air_time`)?"
   ]
  },
  {
   "cell_type": "code",
   "execution_count": null,
   "metadata": {
    "application/vnd.databricks.v1+cell": {
     "cellMetadata": {
      "byteLimit": 2048000,
      "rowLimit": 10000
     },
     "inputWidgets": {},
     "nuid": "a0b1d6ea-bb5b-4edc-a22c-d5d67f7b1341",
     "showTitle": false,
     "title": ""
    }
   },
   "outputs": [
    {
     "data": {
      "text/html": [
       "<style scoped>\n",
       "  .table-result-container {\n",
       "    max-height: 300px;\n",
       "    overflow: auto;\n",
       "  }\n",
       "  table, th, td {\n",
       "    border: 1px solid black;\n",
       "    border-collapse: collapse;\n",
       "  }\n",
       "  th, td {\n",
       "    padding: 5px;\n",
       "  }\n",
       "  th {\n",
       "    text-align: left;\n",
       "  }\n",
       "</style><div class='table-result-container'><table class='table-result'><thead style='background-color: white'><tr><th>origin</th><th>dest</th><th>stddev_samp(air_time)</th></tr></thead><tbody><tr><td>LGA</td><td>MYR</td><td>25.32455988429677</td></tr><tr><td>EWR</td><td>HNL</td><td>21.266135468474193</td></tr><tr><td>JFK</td><td>HNL</td><td>20.688824842787028</td></tr></tbody></table></div>"
      ]
     },
     "metadata": {
      "application/vnd.databricks.v1+output": {
       "addedWidgets": {},
       "aggData": [],
       "aggError": "",
       "aggOverflow": false,
       "aggSchema": [],
       "aggSeriesLimitReached": false,
       "aggType": "",
       "arguments": {},
       "columnCustomDisplayInfos": {},
       "data": [
        [
         "LGA",
         "MYR",
         25.32455988429677
        ],
        [
         "EWR",
         "HNL",
         21.266135468474193
        ],
        [
         "JFK",
         "HNL",
         20.688824842787028
        ]
       ],
       "datasetInfos": [],
       "dbfsResultPath": null,
       "isJsonSchema": true,
       "metadata": {},
       "overflow": false,
       "plotOptions": {
        "customPlotOptions": {},
        "displayType": "table",
        "pivotAggregation": null,
        "pivotColumns": null,
        "xColumns": null,
        "yColumns": null
       },
       "removedWidgets": [],
       "schema": [
        {
         "metadata": "{}",
         "name": "origin",
         "type": "\"string\""
        },
        {
         "metadata": "{}",
         "name": "dest",
         "type": "\"string\""
        },
        {
         "metadata": "{}",
         "name": "stddev_samp(air_time)",
         "type": "\"double\""
        }
       ],
       "type": "table"
      }
     },
     "output_type": "display_data"
    }
   ],
   "source": [
    "df_voos.groupBy([\"origin\", \"dest\"]).agg(stddev(\"air_time\")).sort('stddev_samp(air_time)', ascending=False).limit(3).display()"
   ]
  },
  {
   "cell_type": "markdown",
   "metadata": {
    "application/vnd.databricks.v1+cell": {
     "cellMetadata": {
      "byteLimit": 2048000,
      "rowLimit": 10000
     },
     "inputWidgets": {},
     "nuid": "71f72630-dc59-49ff-9b59-c7ec874077c6",
     "showTitle": false,
     "title": ""
    }
   },
   "source": [
    "**14.** Qual é a média de atraso na chegada para voos que tiveram atraso na partida superior a 1 hora?  \n",
    "**Resposta:** A média de atraso é de 119 minutos (1 hora e 59 minutos)."
   ]
  },
  {
   "cell_type": "code",
   "execution_count": null,
   "metadata": {
    "application/vnd.databricks.v1+cell": {
     "cellMetadata": {
      "byteLimit": 2048000,
      "rowLimit": 10000
     },
     "inputWidgets": {},
     "nuid": "b912d721-8d91-4024-adbb-deb7bf25e64e",
     "showTitle": false,
     "title": ""
    }
   },
   "outputs": [
    {
     "data": {
      "text/html": [
       "<style scoped>\n",
       "  .table-result-container {\n",
       "    max-height: 300px;\n",
       "    overflow: auto;\n",
       "  }\n",
       "  table, th, td {\n",
       "    border: 1px solid black;\n",
       "    border-collapse: collapse;\n",
       "  }\n",
       "  th, td {\n",
       "    padding: 5px;\n",
       "  }\n",
       "  th {\n",
       "    text-align: left;\n",
       "  }\n",
       "</style><div class='table-result-container'><table class='table-result'><thead style='background-color: white'><tr><th>avg(arr_delay)</th></tr></thead><tbody><tr><td>119.04880549963919</td></tr></tbody></table></div>"
      ]
     },
     "metadata": {
      "application/vnd.databricks.v1+output": {
       "addedWidgets": {},
       "aggData": [],
       "aggError": "",
       "aggOverflow": false,
       "aggSchema": [],
       "aggSeriesLimitReached": false,
       "aggType": "",
       "arguments": {},
       "columnCustomDisplayInfos": {},
       "data": [
        [
         119.04880549963919
        ]
       ],
       "datasetInfos": [],
       "dbfsResultPath": null,
       "isJsonSchema": true,
       "metadata": {},
       "overflow": false,
       "plotOptions": {
        "customPlotOptions": {},
        "displayType": "table",
        "pivotAggregation": null,
        "pivotColumns": null,
        "xColumns": null,
        "yColumns": null
       },
       "removedWidgets": [],
       "schema": [
        {
         "metadata": "{}",
         "name": "avg(arr_delay)",
         "type": "\"double\""
        }
       ],
       "type": "table"
      }
     },
     "output_type": "display_data"
    }
   ],
   "source": [
    "df_voos.where(col(\"dep_delay\") > 60).select(mean(col(\"arr_delay\"))).display()"
   ]
  },
  {
   "cell_type": "markdown",
   "metadata": {
    "application/vnd.databricks.v1+cell": {
     "cellMetadata": {
      "byteLimit": 2048000,
      "rowLimit": 10000
     },
     "inputWidgets": {},
     "nuid": "77f90f19-69db-4036-84bf-34f7658faa29",
     "showTitle": false,
     "title": ""
    }
   },
   "source": [
    "**15.** Qual é a média de voos diários para cada mês do ano?"
   ]
  },
  {
   "cell_type": "code",
   "execution_count": null,
   "metadata": {
    "application/vnd.databricks.v1+cell": {
     "cellMetadata": {
      "byteLimit": 2048000,
      "rowLimit": 10000
     },
     "inputWidgets": {},
     "nuid": "0493ce91-cfe1-49eb-89ef-aaada59a9591",
     "showTitle": false,
     "title": ""
    }
   },
   "outputs": [
    {
     "data": {
      "text/html": [
       "<style scoped>\n",
       "  .table-result-container {\n",
       "    max-height: 300px;\n",
       "    overflow: auto;\n",
       "  }\n",
       "  table, th, td {\n",
       "    border: 1px solid black;\n",
       "    border-collapse: collapse;\n",
       "  }\n",
       "  th, td {\n",
       "    padding: 5px;\n",
       "  }\n",
       "  th {\n",
       "    text-align: left;\n",
       "  }\n",
       "</style><div class='table-result-container'><table class='table-result'><thead style='background-color: white'><tr><th>month</th><th>round(avg(count), 2)</th></tr></thead><tbody><tr><td>1</td><td>853.81</td></tr><tr><td>10</td><td>923.94</td></tr><tr><td>11</td><td>900.5</td></tr><tr><td>12</td><td>873.42</td></tr><tr><td>2</td><td>845.0</td></tr><tr><td>3</td><td>901.39</td></tr><tr><td>4</td><td>920.67</td></tr><tr><td>5</td><td>909.52</td></tr><tr><td>6</td><td>905.7</td></tr><tr><td>7</td><td>915.55</td></tr><tr><td>8</td><td>929.71</td></tr><tr><td>9</td><td>902.33</td></tr></tbody></table></div>"
      ]
     },
     "metadata": {
      "application/vnd.databricks.v1+output": {
       "addedWidgets": {},
       "aggData": [],
       "aggError": "",
       "aggOverflow": false,
       "aggSchema": [],
       "aggSeriesLimitReached": false,
       "aggType": "",
       "arguments": {},
       "columnCustomDisplayInfos": {},
       "data": [
        [
         "1",
         853.81
        ],
        [
         "10",
         923.94
        ],
        [
         "11",
         900.5
        ],
        [
         "12",
         873.42
        ],
        [
         "2",
         845
        ],
        [
         "3",
         901.39
        ],
        [
         "4",
         920.67
        ],
        [
         "5",
         909.52
        ],
        [
         "6",
         905.7
        ],
        [
         "7",
         915.55
        ],
        [
         "8",
         929.71
        ],
        [
         "9",
         902.33
        ]
       ],
       "datasetInfos": [],
       "dbfsResultPath": null,
       "isJsonSchema": true,
       "metadata": {},
       "overflow": false,
       "plotOptions": {
        "customPlotOptions": {},
        "displayType": "table",
        "pivotAggregation": null,
        "pivotColumns": null,
        "xColumns": null,
        "yColumns": null
       },
       "removedWidgets": [],
       "schema": [
        {
         "metadata": "{}",
         "name": "month",
         "type": "\"string\""
        },
        {
         "metadata": "{}",
         "name": "round(avg(count), 2)",
         "type": "\"double\""
        }
       ],
       "type": "table"
      }
     },
     "output_type": "display_data"
    }
   ],
   "source": [
    "flights_count = df_voos.groupBy([\"day\", \"month\"]).count()\n",
    "flights_count.groupBy(\"month\").agg(round(mean(\"count\"), 2)).sort(\"month\").display()"
   ]
  },
  {
   "cell_type": "markdown",
   "metadata": {
    "application/vnd.databricks.v1+cell": {
     "cellMetadata": {
      "byteLimit": 2048000,
      "rowLimit": 10000
     },
     "inputWidgets": {},
     "nuid": "8ecad89b-fa11-400e-8656-73ff8e554683",
     "showTitle": false,
     "title": ""
    }
   },
   "source": [
    "**16.** Quais são as 3 rotas mais comuns que tiveram atrasos na chegada superiores a 30 minutos?"
   ]
  },
  {
   "cell_type": "code",
   "execution_count": null,
   "metadata": {
    "application/vnd.databricks.v1+cell": {
     "cellMetadata": {
      "byteLimit": 2048000,
      "rowLimit": 10000
     },
     "inputWidgets": {},
     "nuid": "38935652-dd0c-4d94-a231-0c780aac62c1",
     "showTitle": false,
     "title": ""
    }
   },
   "outputs": [
    {
     "data": {
      "text/html": [
       "<style scoped>\n",
       "  .table-result-container {\n",
       "    max-height: 300px;\n",
       "    overflow: auto;\n",
       "  }\n",
       "  table, th, td {\n",
       "    border: 1px solid black;\n",
       "    border-collapse: collapse;\n",
       "  }\n",
       "  th, td {\n",
       "    padding: 5px;\n",
       "  }\n",
       "  th {\n",
       "    text-align: left;\n",
       "  }\n",
       "</style><div class='table-result-container'><table class='table-result'><thead style='background-color: white'><tr><th>origin</th><th>dest</th><th>count(arr_delay)</th></tr></thead><tbody><tr><td>LGA</td><td>ATL</td><td>1563</td></tr><tr><td>JFK</td><td>LAX</td><td>1286</td></tr><tr><td>LGA</td><td>ORD</td><td>1188</td></tr></tbody></table></div>"
      ]
     },
     "metadata": {
      "application/vnd.databricks.v1+output": {
       "addedWidgets": {},
       "aggData": [],
       "aggError": "",
       "aggOverflow": false,
       "aggSchema": [],
       "aggSeriesLimitReached": false,
       "aggType": "",
       "arguments": {},
       "columnCustomDisplayInfos": {},
       "data": [
        [
         "LGA",
         "ATL",
         1563
        ],
        [
         "JFK",
         "LAX",
         1286
        ],
        [
         "LGA",
         "ORD",
         1188
        ]
       ],
       "datasetInfos": [],
       "dbfsResultPath": null,
       "isJsonSchema": true,
       "metadata": {},
       "overflow": false,
       "plotOptions": {
        "customPlotOptions": {},
        "displayType": "table",
        "pivotAggregation": null,
        "pivotColumns": null,
        "xColumns": null,
        "yColumns": null
       },
       "removedWidgets": [],
       "schema": [
        {
         "metadata": "{}",
         "name": "origin",
         "type": "\"string\""
        },
        {
         "metadata": "{}",
         "name": "dest",
         "type": "\"string\""
        },
        {
         "metadata": "{}",
         "name": "count(arr_delay)",
         "type": "\"long\""
        }
       ],
       "type": "table"
      }
     },
     "output_type": "display_data"
    }
   ],
   "source": [
    "df_voos.where(col(\"arr_delay\") > 30) \\\n",
    "    .groupBy([\"origin\", \"dest\"]) \\\n",
    "    .agg(F.count('arr_delay')) \\\n",
    "    .sort('count(arr_delay)', ascending=False).limit(3).display()"
   ]
  },
  {
   "cell_type": "markdown",
   "metadata": {
    "application/vnd.databricks.v1+cell": {
     "cellMetadata": {
      "byteLimit": 2048000,
      "rowLimit": 10000
     },
     "inputWidgets": {},
     "nuid": "fb6f6327-9d5b-43f6-8ce6-ca5e8a01d87f",
     "showTitle": false,
     "title": ""
    }
   },
   "source": [
    "**17.** Para cada origem, qual o principal destino?  \n",
    "**OBS:** Igual a pergunta 12."
   ]
  },
  {
   "cell_type": "code",
   "execution_count": null,
   "metadata": {
    "application/vnd.databricks.v1+cell": {
     "cellMetadata": {
      "byteLimit": 2048000,
      "rowLimit": 10000
     },
     "inputWidgets": {},
     "nuid": "57ae58de-3baf-402d-9d5a-62a67e1e7394",
     "showTitle": false,
     "title": ""
    }
   },
   "outputs": [
    {
     "data": {
      "text/html": [
       "<style scoped>\n",
       "  .table-result-container {\n",
       "    max-height: 300px;\n",
       "    overflow: auto;\n",
       "  }\n",
       "  table, th, td {\n",
       "    border: 1px solid black;\n",
       "    border-collapse: collapse;\n",
       "  }\n",
       "  th, td {\n",
       "    padding: 5px;\n",
       "  }\n",
       "  th {\n",
       "    text-align: left;\n",
       "  }\n",
       "</style><div class='table-result-container'><table class='table-result'><thead style='background-color: white'><tr><th>origin</th><th>dest</th><th>count</th></tr></thead><tbody><tr><td>EWR</td><td>ORD</td><td>5841</td></tr><tr><td>JFK</td><td>LAX</td><td>11182</td></tr><tr><td>LGA</td><td>ATL</td><td>10063</td></tr></tbody></table></div>"
      ]
     },
     "metadata": {
      "application/vnd.databricks.v1+output": {
       "addedWidgets": {},
       "aggData": [],
       "aggError": "",
       "aggOverflow": false,
       "aggSchema": [],
       "aggSeriesLimitReached": false,
       "aggType": "",
       "arguments": {},
       "columnCustomDisplayInfos": {},
       "data": [
        [
         "EWR",
         "ORD",
         5841
        ],
        [
         "JFK",
         "LAX",
         11182
        ],
        [
         "LGA",
         "ATL",
         10063
        ]
       ],
       "datasetInfos": [],
       "dbfsResultPath": null,
       "isJsonSchema": true,
       "metadata": {},
       "overflow": false,
       "plotOptions": {
        "customPlotOptions": {},
        "displayType": "table",
        "pivotAggregation": null,
        "pivotColumns": null,
        "xColumns": null,
        "yColumns": null
       },
       "removedWidgets": [],
       "schema": [
        {
         "metadata": "{}",
         "name": "origin",
         "type": "\"string\""
        },
        {
         "metadata": "{}",
         "name": "dest",
         "type": "\"string\""
        },
        {
         "metadata": "{}",
         "name": "count",
         "type": "\"long\""
        }
       ],
       "type": "table"
      }
     },
     "output_type": "display_data"
    }
   ],
   "source": [
    "destination_counts = df_voos.groupBy(\"origin\", \"dest\").agg(\n",
    "    count(\"*\").alias(\"count\")\n",
    ")\n",
    "\n",
    "window_spec = Window.partitionBy(\"origin\").orderBy(col(\"count\").desc())\n",
    "destination_counts.withColumn(\n",
    "    \"rank\", row_number().over(window_spec)\n",
    ").filter(col(\"rank\") == 1).drop(\"rank\").display()"
   ]
  },
  {
   "cell_type": "markdown",
   "metadata": {
    "application/vnd.databricks.v1+cell": {
     "cellMetadata": {
      "byteLimit": 2048000,
      "rowLimit": 10000
     },
     "inputWidgets": {},
     "nuid": "d2591f50-952b-461b-965f-765a37a878cb",
     "showTitle": false,
     "title": ""
    }
   },
   "source": [
    "# 4. Enriquecimento da base de dados\n",
    "Duas APIs externas serão usadas para enriquecer a nossa base de dados\n",
    "* [Weatherbit API](https://www.weatherbit.io/): Fornece dados históricos sobre as condições meteorológicas.\n",
    "* [AirportDB API](https://airportdb.io/): Fornece informações detalhadas sobre aeroportos, incluindo\n",
    "coordenadas geográficas."
   ]
  },
  {
   "cell_type": "code",
   "execution_count": null,
   "metadata": {
    "application/vnd.databricks.v1+cell": {
     "cellMetadata": {
      "byteLimit": 2048000,
      "rowLimit": 10000
     },
     "inputWidgets": {},
     "nuid": "c4d6952f-59cc-4da8-8fd2-1a4af65d55f5",
     "showTitle": false,
     "title": ""
    }
   },
   "outputs": [],
   "source": [
    "import requests\n",
    "from datetime import datetime, timedelta\n",
    "from pyspark.sql.types import FloatType"
   ]
  },
  {
   "cell_type": "markdown",
   "metadata": {
    "application/vnd.databricks.v1+cell": {
     "cellMetadata": {
      "byteLimit": 2048000,
      "rowLimit": 10000
     },
     "inputWidgets": {},
     "nuid": "6931556e-7706-4f50-a366-6da9e06a3ca9",
     "showTitle": false,
     "title": ""
    }
   },
   "source": [
    "Primeiramente, iremos coletar os dados dos aeroportos, para isso irei retornar todos os valores únicos das colunas `origin` e `dest` como uma lista."
   ]
  },
  {
   "cell_type": "code",
   "execution_count": null,
   "metadata": {
    "application/vnd.databricks.v1+cell": {
     "cellMetadata": {
      "byteLimit": 2048000,
      "rowLimit": 10000
     },
     "inputWidgets": {},
     "nuid": "16022bf1-7b54-492a-9288-926fd4a4c7f1",
     "showTitle": false,
     "title": ""
    }
   },
   "outputs": [
    {
     "name": "stdout",
     "output_type": "stream",
     "text": [
      "Out[28]: ['LGA', 'EWR', 'JFK', 'PSE', 'MSY']"
     ]
    }
   ],
   "source": [
    "airports = df_voos.select(\"origin\").distinct().union(df_voos.select(\"dest\").distinct()).distinct()\n",
    "airports_list = airports.select('origin').rdd.flatMap(lambda x: x).collect()\n",
    "airports_list[:5]"
   ]
  },
  {
   "cell_type": "markdown",
   "metadata": {
    "application/vnd.databricks.v1+cell": {
     "cellMetadata": {
      "byteLimit": 2048000,
      "rowLimit": 10000
     },
     "inputWidgets": {},
     "nuid": "2ef2bc2f-b3ab-4cd8-8b00-b541698ac008",
     "showTitle": false,
     "title": ""
    }
   },
   "source": [
    "A Weatherbit API precisa da latitude e longitude de cada aeroporto, então primeiramente irei obter essas informações com o AirportDB."
   ]
  },
  {
   "cell_type": "code",
   "execution_count": null,
   "metadata": {
    "application/vnd.databricks.v1+cell": {
     "cellMetadata": {
      "byteLimit": 2048000,
      "rowLimit": 10000
     },
     "inputWidgets": {},
     "nuid": "a0789560-4db9-4e6c-852b-f5ac9e89d4c8",
     "showTitle": false,
     "title": ""
    }
   },
   "outputs": [],
   "source": [
    "airportdb_key = \"YOUR_API_KEY\"\n",
    "\n",
    "def get_lat_long(airport: str, airportdb_key: str):\n",
    "    response = requests.get(url=f'https://airportdb.io/api/v1/airport/K{airport}?apiToken={airportdb_key}').json()\n",
    "\n",
    "    lat = response.get(\"latitude_deg\")\n",
    "    lon = response.get(\"longitude_deg\")\n",
    "    return lat, lon"
   ]
  },
  {
   "cell_type": "code",
   "execution_count": null,
   "metadata": {
    "application/vnd.databricks.v1+cell": {
     "cellMetadata": {
      "byteLimit": 2048000,
      "rowLimit": 10000
     },
     "inputWidgets": {},
     "nuid": "563d2ca7-a98a-4349-a116-7e20eb34ce2f",
     "showTitle": false,
     "title": ""
    }
   },
   "outputs": [
    {
     "data": {
      "text/html": [
       "<style scoped>\n",
       "  .table-result-container {\n",
       "    max-height: 300px;\n",
       "    overflow: auto;\n",
       "  }\n",
       "  table, th, td {\n",
       "    border: 1px solid black;\n",
       "    border-collapse: collapse;\n",
       "  }\n",
       "  th, td {\n",
       "    padding: 5px;\n",
       "  }\n",
       "  th {\n",
       "    text-align: left;\n",
       "  }\n",
       "</style><div class='table-result-container'><table class='table-result'><thead style='background-color: white'><tr><th>airport</th><th>lat</th><th>lon</th></tr></thead><tbody><tr><td>LGA</td><td>40.777199</td><td>-73.872597</td></tr><tr><td>EWR</td><td>40.692501</td><td>-74.168701</td></tr><tr><td>JFK</td><td>40.639801</td><td>-73.7789</td></tr><tr><td>PSE</td><td>null</td><td>null</td></tr><tr><td>MSY</td><td>29.99340057373047</td><td>-90.25800323486328</td></tr></tbody></table></div>"
      ]
     },
     "metadata": {
      "application/vnd.databricks.v1+output": {
       "addedWidgets": {},
       "aggData": [],
       "aggError": "",
       "aggOverflow": false,
       "aggSchema": [],
       "aggSeriesLimitReached": false,
       "aggType": "",
       "arguments": {},
       "columnCustomDisplayInfos": {},
       "data": [
        [
         "LGA",
         40.777199,
         -73.872597
        ],
        [
         "EWR",
         40.692501,
         -74.168701
        ],
        [
         "JFK",
         40.639801,
         -73.7789
        ],
        [
         "PSE",
         null,
         null
        ],
        [
         "MSY",
         29.99340057373047,
         -90.25800323486328
        ]
       ],
       "datasetInfos": [],
       "dbfsResultPath": null,
       "isJsonSchema": true,
       "metadata": {},
       "overflow": false,
       "plotOptions": {
        "customPlotOptions": {},
        "displayType": "table",
        "pivotAggregation": null,
        "pivotColumns": null,
        "xColumns": null,
        "yColumns": null
       },
       "removedWidgets": [],
       "schema": [
        {
         "metadata": "{}",
         "name": "airport",
         "type": "\"string\""
        },
        {
         "metadata": "{}",
         "name": "lat",
         "type": "\"double\""
        },
        {
         "metadata": "{}",
         "name": "lon",
         "type": "\"double\""
        }
       ],
       "type": "table"
      }
     },
     "output_type": "display_data"
    }
   ],
   "source": [
    "airports_lat_long = list()\n",
    "\n",
    "for airport in airports_list:\n",
    "    lat, lon = get_lat_long(airport=airport, airportdb_key=airportdb_key)\n",
    "    airports_lat_long.append({\n",
    "        \"airport\": airport,\n",
    "        \"lat\": lat,\n",
    "        \"lon\": lon\n",
    "    })\n",
    "\n",
    "airports_df = spark.createDataFrame(airports_lat_long)\n",
    "airports_df.limit(5).display()"
   ]
  },
  {
   "cell_type": "markdown",
   "metadata": {
    "application/vnd.databricks.v1+cell": {
     "cellMetadata": {
      "byteLimit": 2048000,
      "rowLimit": 10000
     },
     "inputWidgets": {},
     "nuid": "fee4171c-b6f7-4b45-9bb4-4cd391e5cca3",
     "showTitle": false,
     "title": ""
    }
   },
   "source": [
    "Agora farei um join, adicionando a latitude a longitude do aeroporto de origem e de destino"
   ]
  },
  {
   "cell_type": "code",
   "execution_count": null,
   "metadata": {
    "application/vnd.databricks.v1+cell": {
     "cellMetadata": {
      "byteLimit": 2048000,
      "rowLimit": 10000
     },
     "inputWidgets": {},
     "nuid": "e32bcf44-a7e2-4c0c-854e-566503059e25",
     "showTitle": false,
     "title": ""
    }
   },
   "outputs": [
    {
     "data": {
      "text/html": [
       "<style scoped>\n",
       "  .table-result-container {\n",
       "    max-height: 300px;\n",
       "    overflow: auto;\n",
       "  }\n",
       "  table, th, td {\n",
       "    border: 1px solid black;\n",
       "    border-collapse: collapse;\n",
       "  }\n",
       "  th, td {\n",
       "    padding: 5px;\n",
       "  }\n",
       "  th {\n",
       "    text-align: left;\n",
       "  }\n",
       "</style><div class='table-result-container'><table class='table-result'><thead style='background-color: white'><tr><th>id</th><th>year</th><th>month</th><th>day</th><th>dep_time</th><th>sched_dep_time</th><th>dep_delay</th><th>arr_time</th><th>sched_arr_time</th><th>arr_delay</th><th>carrier</th><th>flight</th><th>tailnum</th><th>origin</th><th>dest</th><th>air_time</th><th>distance</th><th>hour</th><th>minute</th><th>time_hour</th><th>name</th><th>weekday</th><th>origin_lat</th><th>origin_lon</th><th>dest_lat</th><th>dest_lon</th></tr></thead><tbody><tr><td>0</td><td>2013</td><td>1</td><td>1</td><td>517.0</td><td>515</td><td>2.0</td><td>830.0</td><td>819</td><td>11.0</td><td>UA</td><td>1545</td><td>N14228</td><td>EWR</td><td>IAH</td><td>227.0</td><td>1400</td><td>5</td><td>15</td><td>2013-01-01 05:00:00</td><td>United Air Lines Inc.</td><td>1</td><td>40.692501</td><td>-74.168701</td><td>29.984399795532227</td><td>-95.34140014648438</td></tr><tr><td>1</td><td>2013</td><td>1</td><td>1</td><td>533.0</td><td>529</td><td>4.0</td><td>850.0</td><td>830</td><td>20.0</td><td>UA</td><td>1714</td><td>N24211</td><td>LGA</td><td>IAH</td><td>227.0</td><td>1416</td><td>5</td><td>29</td><td>2013-01-01 05:00:00</td><td>United Air Lines Inc.</td><td>1</td><td>40.777199</td><td>-73.872597</td><td>29.984399795532227</td><td>-95.34140014648438</td></tr><tr><td>2</td><td>2013</td><td>1</td><td>1</td><td>542.0</td><td>540</td><td>2.0</td><td>923.0</td><td>850</td><td>33.0</td><td>AA</td><td>1141</td><td>N619AA</td><td>JFK</td><td>MIA</td><td>160.0</td><td>1089</td><td>5</td><td>40</td><td>2013-01-01 05:00:00</td><td>American Airlines Inc.</td><td>1</td><td>40.639801</td><td>-73.7789</td><td>25.79319953918457</td><td>-80.29060363769531</td></tr><tr><td>3</td><td>2013</td><td>1</td><td>1</td><td>544.0</td><td>545</td><td>-1.0</td><td>1004.0</td><td>1022</td><td>-18.0</td><td>B6</td><td>725</td><td>N804JB</td><td>JFK</td><td>BQN</td><td>183.0</td><td>1576</td><td>5</td><td>45</td><td>2013-01-01 05:00:00</td><td>JetBlue Airways</td><td>1</td><td>40.639801</td><td>-73.7789</td><td>null</td><td>null</td></tr><tr><td>4</td><td>2013</td><td>1</td><td>1</td><td>554.0</td><td>600</td><td>-6.0</td><td>812.0</td><td>837</td><td>-25.0</td><td>DL</td><td>461</td><td>N668DN</td><td>LGA</td><td>ATL</td><td>116.0</td><td>762</td><td>6</td><td>0</td><td>2013-01-01 06:00:00</td><td>Delta Air Lines Inc.</td><td>1</td><td>40.777199</td><td>-73.872597</td><td>33.6367</td><td>-84.428101</td></tr></tbody></table></div>"
      ]
     },
     "metadata": {
      "application/vnd.databricks.v1+output": {
       "addedWidgets": {},
       "aggData": [],
       "aggError": "",
       "aggOverflow": false,
       "aggSchema": [],
       "aggSeriesLimitReached": false,
       "aggType": "",
       "arguments": {},
       "columnCustomDisplayInfos": {},
       "data": [
        [
         "0",
         "2013",
         "1",
         "1",
         "517.0",
         "515",
         "2.0",
         "830.0",
         "819",
         "11.0",
         "UA",
         "1545",
         "N14228",
         "EWR",
         "IAH",
         "227.0",
         "1400",
         "5",
         "15",
         "2013-01-01 05:00:00",
         "United Air Lines Inc.",
         "1",
         40.692501,
         -74.168701,
         29.984399795532227,
         -95.34140014648438
        ],
        [
         "1",
         "2013",
         "1",
         "1",
         "533.0",
         "529",
         "4.0",
         "850.0",
         "830",
         "20.0",
         "UA",
         "1714",
         "N24211",
         "LGA",
         "IAH",
         "227.0",
         "1416",
         "5",
         "29",
         "2013-01-01 05:00:00",
         "United Air Lines Inc.",
         "1",
         40.777199,
         -73.872597,
         29.984399795532227,
         -95.34140014648438
        ],
        [
         "2",
         "2013",
         "1",
         "1",
         "542.0",
         "540",
         "2.0",
         "923.0",
         "850",
         "33.0",
         "AA",
         "1141",
         "N619AA",
         "JFK",
         "MIA",
         "160.0",
         "1089",
         "5",
         "40",
         "2013-01-01 05:00:00",
         "American Airlines Inc.",
         "1",
         40.639801,
         -73.7789,
         25.79319953918457,
         -80.29060363769531
        ],
        [
         "3",
         "2013",
         "1",
         "1",
         "544.0",
         "545",
         "-1.0",
         "1004.0",
         "1022",
         "-18.0",
         "B6",
         "725",
         "N804JB",
         "JFK",
         "BQN",
         "183.0",
         "1576",
         "5",
         "45",
         "2013-01-01 05:00:00",
         "JetBlue Airways",
         "1",
         40.639801,
         -73.7789,
         null,
         null
        ],
        [
         "4",
         "2013",
         "1",
         "1",
         "554.0",
         "600",
         "-6.0",
         "812.0",
         "837",
         "-25.0",
         "DL",
         "461",
         "N668DN",
         "LGA",
         "ATL",
         "116.0",
         "762",
         "6",
         "0",
         "2013-01-01 06:00:00",
         "Delta Air Lines Inc.",
         "1",
         40.777199,
         -73.872597,
         33.6367,
         -84.428101
        ]
       ],
       "datasetInfos": [],
       "dbfsResultPath": null,
       "isJsonSchema": true,
       "metadata": {},
       "overflow": false,
       "plotOptions": {
        "customPlotOptions": {},
        "displayType": "table",
        "pivotAggregation": null,
        "pivotColumns": null,
        "xColumns": null,
        "yColumns": null
       },
       "removedWidgets": [],
       "schema": [
        {
         "metadata": "{}",
         "name": "id",
         "type": "\"string\""
        },
        {
         "metadata": "{}",
         "name": "year",
         "type": "\"string\""
        },
        {
         "metadata": "{}",
         "name": "month",
         "type": "\"string\""
        },
        {
         "metadata": "{}",
         "name": "day",
         "type": "\"string\""
        },
        {
         "metadata": "{}",
         "name": "dep_time",
         "type": "\"string\""
        },
        {
         "metadata": "{}",
         "name": "sched_dep_time",
         "type": "\"string\""
        },
        {
         "metadata": "{}",
         "name": "dep_delay",
         "type": "\"string\""
        },
        {
         "metadata": "{}",
         "name": "arr_time",
         "type": "\"string\""
        },
        {
         "metadata": "{}",
         "name": "sched_arr_time",
         "type": "\"string\""
        },
        {
         "metadata": "{}",
         "name": "arr_delay",
         "type": "\"string\""
        },
        {
         "metadata": "{}",
         "name": "carrier",
         "type": "\"string\""
        },
        {
         "metadata": "{}",
         "name": "flight",
         "type": "\"string\""
        },
        {
         "metadata": "{}",
         "name": "tailnum",
         "type": "\"string\""
        },
        {
         "metadata": "{}",
         "name": "origin",
         "type": "\"string\""
        },
        {
         "metadata": "{}",
         "name": "dest",
         "type": "\"string\""
        },
        {
         "metadata": "{}",
         "name": "air_time",
         "type": "\"string\""
        },
        {
         "metadata": "{}",
         "name": "distance",
         "type": "\"string\""
        },
        {
         "metadata": "{}",
         "name": "hour",
         "type": "\"string\""
        },
        {
         "metadata": "{}",
         "name": "minute",
         "type": "\"string\""
        },
        {
         "metadata": "{}",
         "name": "time_hour",
         "type": "\"string\""
        },
        {
         "metadata": "{}",
         "name": "name",
         "type": "\"string\""
        },
        {
         "metadata": "{}",
         "name": "weekday",
         "type": "\"string\""
        },
        {
         "metadata": "{}",
         "name": "origin_lat",
         "type": "\"double\""
        },
        {
         "metadata": "{}",
         "name": "origin_lon",
         "type": "\"double\""
        },
        {
         "metadata": "{}",
         "name": "dest_lat",
         "type": "\"double\""
        },
        {
         "metadata": "{}",
         "name": "dest_lon",
         "type": "\"double\""
        }
       ],
       "type": "table"
      }
     },
     "output_type": "display_data"
    }
   ],
   "source": [
    "df_coordinates = df_voos.join(airports_df, df_voos.origin == airports_df.airport, \"inner\")\n",
    "df_coordinates = df_coordinates.withColumnRenamed(\"lat\", \"origin_lat\") \\\n",
    "    .withColumnRenamed(\"lon\", \"origin_lon\").drop(\"airport\")\n",
    "\n",
    "df_coordinates = df_coordinates.join(airports_df, df_coordinates.dest == airports_df.airport, \"inner\")\n",
    "df_coordinates = df_coordinates.withColumnRenamed(\"lat\", \"dest_lat\") \\\n",
    "    .withColumnRenamed(\"lon\", \"dest_lon\").drop(\"airport\")\n",
    "\n",
    "df_coordinates.limit(5).display()"
   ]
  },
  {
   "cell_type": "markdown",
   "metadata": {
    "application/vnd.databricks.v1+cell": {
     "cellMetadata": {
      "byteLimit": 2048000,
      "rowLimit": 10000
     },
     "inputWidgets": {},
     "nuid": "b207d286-f99e-42fa-b3dd-13ac248eaa51",
     "showTitle": false,
     "title": ""
    }
   },
   "source": [
    "Agora, nesse etapa irei criar uma nova coluna, adicionando a velocidade do vento em metros por segundo usando o Weatherbit API."
   ]
  },
  {
   "cell_type": "code",
   "execution_count": null,
   "metadata": {
    "application/vnd.databricks.v1+cell": {
     "cellMetadata": {
      "byteLimit": 2048000,
      "rowLimit": 10000
     },
     "inputWidgets": {},
     "nuid": "481e3844-f7d6-4239-8d53-d3b6cc95335c",
     "showTitle": false,
     "title": ""
    }
   },
   "outputs": [],
   "source": [
    "def get_date(date):\n",
    "    start_date = datetime.strptime(date, \"%Y-%m-%d %H:%M:%S\")\n",
    "    end_date = start_date + timedelta(days=1)\n",
    "\n",
    "    start_date = start_date.strftime(\"%Y-%m-%d\")\n",
    "    end_date = end_date.strftime(\"%Y-%m-%d\")\n",
    "    return start_date, end_date\n",
    "\n",
    "def get_wind_speed(lat, lon, start_date):\n",
    "    weatherbit_key = \"YOUR_API_KEY\"\n",
    "\n",
    "    try:\n",
    "        url = 'https://api.weatherbit.io/v2.0/history/daily'\n",
    "        start_date, end_date = get_date(start_date)\n",
    "        params = {\n",
    "            'lat': lat,\n",
    "            'lon': lon,\n",
    "            'start_date': start_date,\n",
    "            'end_date': end_date,\n",
    "            'key': weatherbit_key\n",
    "        }\n",
    "\n",
    "        headers = {\n",
    "            'Accept': 'application/json'\n",
    "        }\n",
    "\n",
    "        response = requests.get(url, params=params, headers=headers).json()\n",
    "\n",
    "        return response.get(\"data\")[0].get(\"wind_spd\")\n",
    "    except:\n",
    "        return None"
   ]
  },
  {
   "cell_type": "code",
   "execution_count": null,
   "metadata": {
    "application/vnd.databricks.v1+cell": {
     "cellMetadata": {
      "byteLimit": 2048000,
      "rowLimit": 10000
     },
     "inputWidgets": {},
     "nuid": "257c6671-9952-4a4e-ae4e-37f77303755e",
     "showTitle": false,
     "title": ""
    }
   },
   "outputs": [
    {
     "data": {
      "text/html": [
       "<style scoped>\n",
       "  .table-result-container {\n",
       "    max-height: 300px;\n",
       "    overflow: auto;\n",
       "  }\n",
       "  table, th, td {\n",
       "    border: 1px solid black;\n",
       "    border-collapse: collapse;\n",
       "  }\n",
       "  th, td {\n",
       "    padding: 5px;\n",
       "  }\n",
       "  th {\n",
       "    text-align: left;\n",
       "  }\n",
       "</style><div class='table-result-container'><table class='table-result'><thead style='background-color: white'><tr><th>arr_delay</th><th>origin_lat</th><th>origin_lon</th><th>dest_lat</th><th>dest_lon</th><th>time_hour</th><th>origin_wind_speed</th><th>dest_wind_speed</th></tr></thead><tbody><tr><td>7.0</td><td>40.777199</td><td>-73.872597</td><td>36.1245002746582</td><td>-86.6781997680664</td><td>2013-09-30 21:00:00</td><td>null</td><td>null</td></tr><tr><td>8.0</td><td>40.777199</td><td>-73.872597</td><td>44.80739974975586</td><td>-68.8281021118164</td><td>2013-09-30 22:00:00</td><td>null</td><td>null</td></tr><tr><td>3.0</td><td>40.777199</td><td>-73.872597</td><td>26.072599</td><td>-80.152702</td><td>2013-09-30 21:00:00</td><td>null</td><td>null</td></tr><tr><td>-2.0</td><td>40.777199</td><td>-73.872597</td><td>37.50519943237305</td><td>-77.3197021484375</td><td>2013-09-30 20:00:00</td><td>null</td><td>null</td></tr><tr><td>-24.0</td><td>40.777199</td><td>-73.872597</td><td>38.13859939575195</td><td>-78.4529037475586</td><td>2013-09-30 21:00:00</td><td>null</td><td>null</td></tr></tbody></table></div>"
      ]
     },
     "metadata": {
      "application/vnd.databricks.v1+output": {
       "addedWidgets": {},
       "aggData": [],
       "aggError": "",
       "aggOverflow": false,
       "aggSchema": [],
       "aggSeriesLimitReached": false,
       "aggType": "",
       "arguments": {},
       "columnCustomDisplayInfos": {},
       "data": [
        [
         "7.0",
         40.777199,
         -73.872597,
         36.1245002746582,
         -86.6781997680664,
         "2013-09-30 21:00:00",
         null,
         null
        ],
        [
         "8.0",
         40.777199,
         -73.872597,
         44.80739974975586,
         -68.8281021118164,
         "2013-09-30 22:00:00",
         null,
         null
        ],
        [
         "3.0",
         40.777199,
         -73.872597,
         26.072599,
         -80.152702,
         "2013-09-30 21:00:00",
         null,
         null
        ],
        [
         "-2.0",
         40.777199,
         -73.872597,
         37.50519943237305,
         -77.3197021484375,
         "2013-09-30 20:00:00",
         null,
         null
        ],
        [
         "-24.0",
         40.777199,
         -73.872597,
         38.13859939575195,
         -78.4529037475586,
         "2013-09-30 21:00:00",
         null,
         null
        ]
       ],
       "datasetInfos": [],
       "dbfsResultPath": null,
       "isJsonSchema": true,
       "metadata": {},
       "overflow": false,
       "plotOptions": {
        "customPlotOptions": {},
        "displayType": "table",
        "pivotAggregation": null,
        "pivotColumns": null,
        "xColumns": null,
        "yColumns": null
       },
       "removedWidgets": [],
       "schema": [
        {
         "metadata": "{}",
         "name": "arr_delay",
         "type": "\"string\""
        },
        {
         "metadata": "{}",
         "name": "origin_lat",
         "type": "\"double\""
        },
        {
         "metadata": "{}",
         "name": "origin_lon",
         "type": "\"double\""
        },
        {
         "metadata": "{}",
         "name": "dest_lat",
         "type": "\"double\""
        },
        {
         "metadata": "{}",
         "name": "dest_lon",
         "type": "\"double\""
        },
        {
         "metadata": "{}",
         "name": "time_hour",
         "type": "\"string\""
        },
        {
         "metadata": "{}",
         "name": "origin_wind_speed",
         "type": "\"float\""
        },
        {
         "metadata": "{}",
         "name": "dest_wind_speed",
         "type": "\"float\""
        }
       ],
       "type": "table"
      }
     },
     "output_type": "display_data"
    }
   ],
   "source": [
    "wind_udf = udf(get_wind_speed, FloatType())\n",
    "df_wind = df_coordinates.select([\"arr_delay\", \"origin_lat\", \"origin_lon\", \"dest_lat\", \"dest_lon\", \"time_hour\"])\n",
    "df_wind = df_wind.withColumn(\"origin_wind_speed\", wind_udf(\"origin_lat\", \"origin_lon\", \"time_hour\"))\n",
    "df_wind = df_wind.withColumn(\"dest_wind_speed\", wind_udf(\"dest_lat\", \"dest_lon\", \"time_hour\"))\n",
    "df_wind.limit(5).display()"
   ]
  },
  {
   "cell_type": "markdown",
   "metadata": {
    "application/vnd.databricks.v1+cell": {
     "cellMetadata": {
      "byteLimit": 2048000,
      "rowLimit": 10000
     },
     "inputWidgets": {},
     "nuid": "6df188c5-395e-4d6e-8825-b90b936652a0",
     "showTitle": false,
     "title": ""
    }
   },
   "source": [
    "Informações enriquecidas para os 5 voos com maior atraso na chegada"
   ]
  },
  {
   "cell_type": "code",
   "execution_count": null,
   "metadata": {
    "application/vnd.databricks.v1+cell": {
     "cellMetadata": {
      "byteLimit": 2048000,
      "rowLimit": 10000
     },
     "inputWidgets": {},
     "nuid": "799357a5-c3dc-4600-98c3-a452c46965bf",
     "showTitle": false,
     "title": ""
    }
   },
   "outputs": [],
   "source": [
    "# OBS: Não executou\n",
    "df_wind.sort(\"arr_delay\", ascending=False).limit(5).display()"
   ]
  },
  {
   "cell_type": "code",
   "execution_count": null,
   "metadata": {
    "application/vnd.databricks.v1+cell": {
     "cellMetadata": {
      "byteLimit": 2048000,
      "rowLimit": 10000
     },
     "inputWidgets": {},
     "nuid": "289b082f-1019-4e14-8aa8-56dc177b4f8b",
     "showTitle": false,
     "title": ""
    }
   },
   "outputs": [
    {
     "data": {
      "text/html": [
       "<style scoped>\n",
       "  .ansiout {\n",
       "    display: block;\n",
       "    unicode-bidi: embed;\n",
       "    white-space: pre-wrap;\n",
       "    word-wrap: break-word;\n",
       "    word-break: break-all;\n",
       "    font-family: \"Menlo\", \"Monaco\", \"Consolas\", \"Ubuntu Mono\", \"Source Code Pro\", monospace;\n",
       "    font-size: 13px;\n",
       "    color: #555;\n",
       "    margin-left: 4px;\n",
       "    line-height: 19px;\n",
       "  }\n",
       "</style>"
      ]
     },
     "metadata": {
      "application/vnd.databricks.v1+output": {
       "arguments": {},
       "data": "",
       "errorSummary": "Cancelled",
       "errorTraceType": "html",
       "metadata": {},
       "type": "ipynbError"
      }
     },
     "output_type": "display_data"
    }
   ],
   "source": [
    "# OBS: Não executou\n",
    "df_wind.write \\\n",
    "  .format(\"delta\") \\\n",
    "  .mode(\"overwrite\") \\\n",
    "  .option(\"overwriteSchema\", \"true\") \\\n",
    "  .saveAsTable(\"silver_airports_database\")"
   ]
  },
  {
   "cell_type": "markdown",
   "metadata": {
    "application/vnd.databricks.v1+cell": {
     "cellMetadata": {
      "byteLimit": 2048000,
      "rowLimit": 10000
     },
     "inputWidgets": {},
     "nuid": "2d226bb1-7d77-41dc-9828-a480448b3efe",
     "showTitle": false,
     "title": ""
    }
   },
   "source": [
    "OBS: Em diversas tentativas a célula acima ficava carregando e não terminava de executar, acredito que possa ser uma limitação da versão community do databrics.  \n",
    "![salvando tabela silver](assets/4_silver.png)  \n",
    "  \n",
    "Na seção abaixo, deixei os scripts de treinamento e avaliação do modelo prontos, embora não tenha conseguido executar após diversas tentativas.\n",
    "  \n",
    "Para conseguir usar um modelo na API, fiz um treinamento de um modelo com dados fictícios."
   ]
  },
  {
   "cell_type": "markdown",
   "metadata": {
    "application/vnd.databricks.v1+cell": {
     "cellMetadata": {
      "byteLimit": 2048000,
      "rowLimit": 10000
     },
     "inputWidgets": {},
     "nuid": "1d7110fe-dc39-42e3-80ed-b26d0092e45e",
     "showTitle": false,
     "title": ""
    }
   },
   "source": [
    "# 5. Modelo de Machine Learning"
   ]
  },
  {
   "cell_type": "code",
   "execution_count": null,
   "metadata": {
    "application/vnd.databricks.v1+cell": {
     "cellMetadata": {
      "byteLimit": 2048000,
      "rowLimit": 10000
     },
     "inputWidgets": {},
     "nuid": "596033eb-e39b-4720-8322-a888153fa1bc",
     "showTitle": false,
     "title": ""
    }
   },
   "outputs": [
    {
     "data": {
      "text/html": [
       "<style scoped>\n",
       "  .ansiout {\n",
       "    display: block;\n",
       "    unicode-bidi: embed;\n",
       "    white-space: pre-wrap;\n",
       "    word-wrap: break-word;\n",
       "    word-break: break-all;\n",
       "    font-family: \"Menlo\", \"Monaco\", \"Consolas\", \"Ubuntu Mono\", \"Source Code Pro\", monospace;\n",
       "    font-size: 13px;\n",
       "    color: #555;\n",
       "    margin-left: 4px;\n",
       "    line-height: 19px;\n",
       "  }\n",
       "</style>"
      ]
     },
     "metadata": {
      "application/vnd.databricks.v1+output": {
       "arguments": {},
       "data": "",
       "errorSummary": "",
       "errorTraceType": null,
       "metadata": {},
       "type": "ipynbError"
      }
     },
     "output_type": "display_data"
    }
   ],
   "source": [
    "from sklearn.linear_model import LinearRegression\n",
    "from sklearn.model_selection import train_test_split\n",
    "from sklearn.metrics import r2_score, mean_squared_error"
   ]
  },
  {
   "cell_type": "code",
   "execution_count": null,
   "metadata": {
    "application/vnd.databricks.v1+cell": {
     "cellMetadata": {
      "byteLimit": 2048000,
      "rowLimit": 10000
     },
     "inputWidgets": {},
     "nuid": "058618ea-1694-4ca0-99ae-648ecdf7500f",
     "showTitle": false,
     "title": ""
    }
   },
   "outputs": [
    {
     "data": {
      "text/html": [
       "<style scoped>\n",
       "  .ansiout {\n",
       "    display: block;\n",
       "    unicode-bidi: embed;\n",
       "    white-space: pre-wrap;\n",
       "    word-wrap: break-word;\n",
       "    word-break: break-all;\n",
       "    font-family: \"Menlo\", \"Monaco\", \"Consolas\", \"Ubuntu Mono\", \"Source Code Pro\", monospace;\n",
       "    font-size: 13px;\n",
       "    color: #555;\n",
       "    margin-left: 4px;\n",
       "    line-height: 19px;\n",
       "  }\n",
       "</style>"
      ]
     },
     "metadata": {
      "application/vnd.databricks.v1+output": {
       "arguments": {},
       "data": "",
       "errorSummary": "Cancelled",
       "errorTraceType": "html",
       "metadata": {},
       "type": "ipynbError"
      }
     },
     "output_type": "display_data"
    }
   ],
   "source": [
    "pandas_df = df_wind.toPandas()\n",
    "pandas_df = pandas_df.dropna(subset=[\"origin_wind_speed\", \"dest_wind_speed\"])\n",
    "pandas_df.head()"
   ]
  },
  {
   "cell_type": "code",
   "execution_count": null,
   "metadata": {
    "application/vnd.databricks.v1+cell": {
     "cellMetadata": {
      "byteLimit": 2048000,
      "rowLimit": 10000
     },
     "inputWidgets": {},
     "nuid": "819f66f2-928e-4abb-a5a0-3c5ed2d0fe6e",
     "showTitle": false,
     "title": ""
    }
   },
   "outputs": [
    {
     "data": {
      "text/html": [
       "<style scoped>\n",
       "  .ansiout {\n",
       "    display: block;\n",
       "    unicode-bidi: embed;\n",
       "    white-space: pre-wrap;\n",
       "    word-wrap: break-word;\n",
       "    word-break: break-all;\n",
       "    font-family: \"Menlo\", \"Monaco\", \"Consolas\", \"Ubuntu Mono\", \"Source Code Pro\", monospace;\n",
       "    font-size: 13px;\n",
       "    color: #555;\n",
       "    margin-left: 4px;\n",
       "    line-height: 19px;\n",
       "  }\n",
       "</style>"
      ]
     },
     "metadata": {
      "application/vnd.databricks.v1+output": {
       "arguments": {},
       "data": "",
       "errorSummary": "",
       "errorTraceType": null,
       "metadata": {},
       "type": "ipynbError"
      }
     },
     "output_type": "display_data"
    }
   ],
   "source": [
    "train_df, test_df = train_test_split(pandas_df, test_size=0.3)"
   ]
  },
  {
   "cell_type": "code",
   "execution_count": null,
   "metadata": {
    "application/vnd.databricks.v1+cell": {
     "cellMetadata": {
      "byteLimit": 2048000,
      "rowLimit": 10000
     },
     "inputWidgets": {},
     "nuid": "a2747bdd-b82b-4297-be80-774cba02385c",
     "showTitle": false,
     "title": ""
    }
   },
   "outputs": [
    {
     "data": {
      "text/html": [
       "<style scoped>\n",
       "  .ansiout {\n",
       "    display: block;\n",
       "    unicode-bidi: embed;\n",
       "    white-space: pre-wrap;\n",
       "    word-wrap: break-word;\n",
       "    word-break: break-all;\n",
       "    font-family: \"Menlo\", \"Monaco\", \"Consolas\", \"Ubuntu Mono\", \"Source Code Pro\", monospace;\n",
       "    font-size: 13px;\n",
       "    color: #555;\n",
       "    margin-left: 4px;\n",
       "    line-height: 19px;\n",
       "  }\n",
       "</style>"
      ]
     },
     "metadata": {
      "application/vnd.databricks.v1+output": {
       "arguments": {},
       "data": "",
       "errorSummary": "",
       "errorTraceType": null,
       "metadata": {},
       "type": "ipynbError"
      }
     },
     "output_type": "display_data"
    }
   ],
   "source": [
    "X = train_df[[\"origin_wind_speed\", \"dest_wind_speed\"]]\n",
    "y = train_df[\"arr_delay\"]\n",
    "\n",
    "linear_model = LinearRegression()\n",
    "linear_model.fit(X, y)"
   ]
  },
  {
   "cell_type": "code",
   "execution_count": null,
   "metadata": {
    "application/vnd.databricks.v1+cell": {
     "cellMetadata": {
      "byteLimit": 2048000,
      "rowLimit": 10000
     },
     "inputWidgets": {},
     "nuid": "0337223d-3baa-4d23-a3f6-0023b2435c45",
     "showTitle": false,
     "title": ""
    }
   },
   "outputs": [
    {
     "data": {
      "text/html": [
       "<style scoped>\n",
       "  .ansiout {\n",
       "    display: block;\n",
       "    unicode-bidi: embed;\n",
       "    white-space: pre-wrap;\n",
       "    word-wrap: break-word;\n",
       "    word-break: break-all;\n",
       "    font-family: \"Menlo\", \"Monaco\", \"Consolas\", \"Ubuntu Mono\", \"Source Code Pro\", monospace;\n",
       "    font-size: 13px;\n",
       "    color: #555;\n",
       "    margin-left: 4px;\n",
       "    line-height: 19px;\n",
       "  }\n",
       "</style>"
      ]
     },
     "metadata": {
      "application/vnd.databricks.v1+output": {
       "arguments": {},
       "data": "",
       "errorSummary": "",
       "errorTraceType": null,
       "metadata": {},
       "type": "ipynbError"
      }
     },
     "output_type": "display_data"
    }
   ],
   "source": [
    "y_pred = linear_model.predict(test_df[[\"origin_wind_speed\", \"dest_wind_speed\"]])\n",
    "r2_score(test_df[\"arr_delay\"], y_pred)"
   ]
  },
  {
   "cell_type": "code",
   "execution_count": null,
   "metadata": {
    "application/vnd.databricks.v1+cell": {
     "cellMetadata": {
      "byteLimit": 2048000,
      "rowLimit": 10000
     },
     "inputWidgets": {},
     "nuid": "bd7b0ddf-7710-4bdd-bfd4-a814fbca6598",
     "showTitle": false,
     "title": ""
    }
   },
   "outputs": [
    {
     "data": {
      "text/html": [
       "<style scoped>\n",
       "  .ansiout {\n",
       "    display: block;\n",
       "    unicode-bidi: embed;\n",
       "    white-space: pre-wrap;\n",
       "    word-wrap: break-word;\n",
       "    word-break: break-all;\n",
       "    font-family: \"Menlo\", \"Monaco\", \"Consolas\", \"Ubuntu Mono\", \"Source Code Pro\", monospace;\n",
       "    font-size: 13px;\n",
       "    color: #555;\n",
       "    margin-left: 4px;\n",
       "    line-height: 19px;\n",
       "  }\n",
       "</style>"
      ]
     },
     "metadata": {
      "application/vnd.databricks.v1+output": {
       "arguments": {},
       "data": "",
       "errorSummary": "",
       "errorTraceType": null,
       "metadata": {},
       "type": "ipynbError"
      }
     },
     "output_type": "display_data"
    }
   ],
   "source": [
    "mean_squared_error(test_df[\"arr_delay\"], y_pred)"
   ]
  }
 ],
 "metadata": {
  "application/vnd.databricks.v1+notebook": {
   "dashboards": [],
   "environmentMetadata": null,
   "language": "python",
   "notebookMetadata": {
    "mostRecentlyExecutedCommandWithImplicitDF": {
     "commandId": 3085583609117769,
     "dataframes": [
      "_sqldf"
     ]
    },
    "pythonIndentUnit": 4
   },
   "notebookName": "picpay_desafio_tecnico",
   "widgets": {}
  },
  "language_info": {
   "name": "python"
  }
 },
 "nbformat": 4,
 "nbformat_minor": 0
}
