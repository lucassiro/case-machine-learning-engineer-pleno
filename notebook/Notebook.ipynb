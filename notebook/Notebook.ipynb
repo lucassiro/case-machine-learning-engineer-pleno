{
 "cells": [
  {
   "cell_type": "markdown",
   "metadata": {
    "application/vnd.databricks.v1+cell": {
     "cellMetadata": {
      "byteLimit": 2048000,
      "rowLimit": 10000
     },
     "inputWidgets": {},
     "nuid": "2dc000b4-4d14-4900-960f-51dada7234ff",
     "showTitle": false,
     "title": ""
    }
   },
   "source": [
    "# Desafio Técnico PicPay"
   ]
  },
  {
   "cell_type": "markdown",
   "metadata": {
    "application/vnd.databricks.v1+cell": {
     "cellMetadata": {
      "byteLimit": 2048000,
      "rowLimit": 10000
     },
     "inputWidgets": {},
     "nuid": "c412dea7-5de8-41ef-9924-fdf57c488f35",
     "showTitle": false,
     "title": ""
    }
   },
   "source": [
    "# 1. Upload da base de dados\n",
    "Essa primeira etapa consiste de fazer o upload da base de dados `airports-database.csv` para o databrics.  \n",
    "  \n",
    "Na página inicial do Databrics, podemos clicar em `Create Table`.  \n",
    "![criando tabela](assets/1_create_table.png)  \n",
    "  \n",
    "A próxima etapa foi realizar o upload do arquivo no Databricks.  \n",
    "![fazendo o upload no databrics](assets/2_upload.png)\n",
    "  \n",
    "O databrics permite que criemos uma tabela por meio da interface gráfica e por meio do notebook (opção escolhida), que será realizada logo abaixo."
   ]
  },
  {
   "cell_type": "markdown",
   "metadata": {
    "application/vnd.databricks.v1+cell": {
     "cellMetadata": {
      "byteLimit": 2048000,
      "rowLimit": 10000
     },
     "inputWidgets": {},
     "nuid": "31e55a3d-60d4-4df8-997d-991ffab04ea9",
     "showTitle": false,
     "title": ""
    }
   },
   "source": [
    "Temos o nosso conjunto de dados no databrics em formato CSV, esse é o nosso dado raw (ou dado bruto), sem qualquer tipo de transformação.  \n",
    "Essa tabela é composta pelas seguintes colunas:\n",
    "| Coluna | Descrição |\n",
    "|---|---|\n",
    "| id | Um identificador único para cada registro de voo. |\n",
    "| year | O ano em que o voo ocorreu (2013 neste conjunto de dados). |\n",
    "| month | O mês em que o voo ocorreu (1 a 12). |\n",
    "| day| O dia do mês em que o voo ocorreu (1 a 31). |\n",
    "| dep_time | O horário local real de partida do voo, no formato 24 horas (hhmm). |\n",
    "| sched_dep_time | O horário local programado de partida do voo, no formato 24 horas (hhmm). |\n",
    "| dep_delay | A diferença entre os horários real e programado de partida do voo, em minutos. Um valor positivo indica uma partida atrasada, enquanto um valor negativo indica uma partida adiantada. |\n",
    "| arr_time | O horário local real de chegada do voo, no formato 24 horas (hhmm). |\n",
    "| sched_arr_time | O horário local programado de chegada do voo, no formato 24 horas (hhmm).|\n",
    "| arr_delay | A diferença entre os horários real e programado de chegada do voo, em minutos. Um valor positivo indica uma chegada atrasada, enquanto um valor negativo indica uma chegada adiantada. |\n",
    "| carrier | O código de duas letras da companhia aérea do voo. |\n",
    "| flight | O número do voo. |\n",
    "| tailnum | O identificador único da aeronave usada no voo. |\n",
    "| origin | O código de três letras do aeroporto de origem do voo. |\n",
    "| dest | O código de três letras do aeroporto de destino do voo. |\n",
    "| air_time | A duração do voo, em minutos. |\n",
    "| distance | A distância entre os aeroportos de origem e destino, em milhas. |\n",
    "| hour | O componente da hora do horário programado de partida, no horário local. |\n",
    "| minute | O componente dos minutos do horário programado de partida, no horário local. |\n",
    "| time_hour | O horário programado de partida do voo, no formato local e de data-hora (yyyy-mm-dd hh)\n",
    "| name | O nome da companhia aérea do voo. |"
   ]
  },
  {
   "cell_type": "markdown",
   "metadata": {
    "application/vnd.databricks.v1+cell": {
     "cellMetadata": {
      "byteLimit": 2048000,
      "rowLimit": 10000
     },
     "inputWidgets": {},
     "nuid": "3b378bfe-f88e-464d-8e33-51d584be31d6",
     "showTitle": false,
     "title": ""
    }
   },
   "source": [
    "# 2. Carga\n",
    "Aqui faremos o carregamento do arquivo para uma tabela delta na camada bronze.  \n",
    "A arquitetura usada aqui é a [arquitetura medallion](https://www.databricks.com/glossary/medallion-architecture).  \n",
    "![medallion architecture](assets/4_medallion_architecture.png)"
   ]
  },
  {
   "cell_type": "code",
   "execution_count": null,
   "metadata": {
    "application/vnd.databricks.v1+cell": {
     "cellMetadata": {
      "byteLimit": 2048000,
      "rowLimit": 10000
     },
     "inputWidgets": {},
     "nuid": "6482be4c-f067-47c9-b0ac-35c938b94601",
     "showTitle": false,
     "title": ""
    }
   },
   "outputs": [
    {
     "data": {
      "text/html": [
       "<style scoped>\n",
       "  .table-result-container {\n",
       "    max-height: 300px;\n",
       "    overflow: auto;\n",
       "  }\n",
       "  table, th, td {\n",
       "    border: 1px solid black;\n",
       "    border-collapse: collapse;\n",
       "  }\n",
       "  th, td {\n",
       "    padding: 5px;\n",
       "  }\n",
       "  th {\n",
       "    text-align: left;\n",
       "  }\n",
       "</style><div class='table-result-container'><table class='table-result'><thead style='background-color: white'><tr><th>id</th><th>year</th><th>month</th><th>day</th><th>dep_time</th><th>sched_dep_time</th><th>dep_delay</th><th>arr_time</th><th>sched_arr_time</th><th>arr_delay</th><th>carrier</th><th>flight</th><th>tailnum</th><th>origin</th><th>dest</th><th>air_time</th><th>distance</th><th>hour</th><th>minute</th><th>time_hour</th><th>name</th></tr></thead><tbody><tr><td>0</td><td>2013</td><td>1</td><td>1</td><td>517.0</td><td>515</td><td>2.0</td><td>830.0</td><td>819</td><td>11.0</td><td>UA</td><td>1545</td><td>N14228</td><td>EWR</td><td>IAH</td><td>227.0</td><td>1400</td><td>5</td><td>15</td><td>2013-01-01 05:00:00</td><td>United Air Lines Inc.</td></tr><tr><td>1</td><td>2013</td><td>1</td><td>1</td><td>533.0</td><td>529</td><td>4.0</td><td>850.0</td><td>830</td><td>20.0</td><td>UA</td><td>1714</td><td>N24211</td><td>LGA</td><td>IAH</td><td>227.0</td><td>1416</td><td>5</td><td>29</td><td>2013-01-01 05:00:00</td><td>United Air Lines Inc.</td></tr><tr><td>2</td><td>2013</td><td>1</td><td>1</td><td>542.0</td><td>540</td><td>2.0</td><td>923.0</td><td>850</td><td>33.0</td><td>AA</td><td>1141</td><td>N619AA</td><td>JFK</td><td>MIA</td><td>160.0</td><td>1089</td><td>5</td><td>40</td><td>2013-01-01 05:00:00</td><td>American Airlines Inc.</td></tr><tr><td>3</td><td>2013</td><td>1</td><td>1</td><td>544.0</td><td>545</td><td>-1.0</td><td>1004.0</td><td>1022</td><td>-18.0</td><td>B6</td><td>725</td><td>N804JB</td><td>JFK</td><td>BQN</td><td>183.0</td><td>1576</td><td>5</td><td>45</td><td>2013-01-01 05:00:00</td><td>JetBlue Airways</td></tr><tr><td>4</td><td>2013</td><td>1</td><td>1</td><td>554.0</td><td>600</td><td>-6.0</td><td>812.0</td><td>837</td><td>-25.0</td><td>DL</td><td>461</td><td>N668DN</td><td>LGA</td><td>ATL</td><td>116.0</td><td>762</td><td>6</td><td>0</td><td>2013-01-01 06:00:00</td><td>Delta Air Lines Inc.</td></tr><tr><td>5</td><td>2013</td><td>1</td><td>1</td><td>554.0</td><td>558</td><td>-4.0</td><td>740.0</td><td>728</td><td>12.0</td><td>UA</td><td>1696</td><td>N39463</td><td>EWR</td><td>ORD</td><td>150.0</td><td>719</td><td>5</td><td>58</td><td>2013-01-01 05:00:00</td><td>United Air Lines Inc.</td></tr><tr><td>6</td><td>2013</td><td>1</td><td>1</td><td>555.0</td><td>600</td><td>-5.0</td><td>913.0</td><td>854</td><td>19.0</td><td>B6</td><td>507</td><td>N516JB</td><td>EWR</td><td>FLL</td><td>158.0</td><td>1065</td><td>6</td><td>0</td><td>2013-01-01 06:00:00</td><td>JetBlue Airways</td></tr><tr><td>7</td><td>2013</td><td>1</td><td>1</td><td>557.0</td><td>600</td><td>-3.0</td><td>709.0</td><td>723</td><td>-14.0</td><td>EV</td><td>5708</td><td>N829AS</td><td>LGA</td><td>IAD</td><td>53.0</td><td>229</td><td>6</td><td>0</td><td>2013-01-01 06:00:00</td><td>ExpressJet Airlines Inc.</td></tr><tr><td>8</td><td>2013</td><td>1</td><td>1</td><td>557.0</td><td>600</td><td>-3.0</td><td>838.0</td><td>846</td><td>-8.0</td><td>B6</td><td>79</td><td>N593JB</td><td>JFK</td><td>MCO</td><td>140.0</td><td>944</td><td>6</td><td>0</td><td>2013-01-01 06:00:00</td><td>JetBlue Airways</td></tr><tr><td>9</td><td>2013</td><td>1</td><td>1</td><td>558.0</td><td>600</td><td>-2.0</td><td>753.0</td><td>745</td><td>8.0</td><td>AA</td><td>301</td><td>N3ALAA</td><td>LGA</td><td>ORD</td><td>138.0</td><td>733</td><td>6</td><td>0</td><td>2013-01-01 06:00:00</td><td>American Airlines Inc.</td></tr></tbody></table></div>"
      ]
     },
     "metadata": {
      "application/vnd.databricks.v1+output": {
       "addedWidgets": {},
       "aggData": [],
       "aggError": "",
       "aggOverflow": false,
       "aggSchema": [],
       "aggSeriesLimitReached": false,
       "aggType": "",
       "arguments": {},
       "columnCustomDisplayInfos": {},
       "data": [
        [
         "0",
         "2013",
         "1",
         "1",
         "517.0",
         "515",
         "2.0",
         "830.0",
         "819",
         "11.0",
         "UA",
         "1545",
         "N14228",
         "EWR",
         "IAH",
         "227.0",
         "1400",
         "5",
         "15",
         "2013-01-01 05:00:00",
         "United Air Lines Inc."
        ],
        [
         "1",
         "2013",
         "1",
         "1",
         "533.0",
         "529",
         "4.0",
         "850.0",
         "830",
         "20.0",
         "UA",
         "1714",
         "N24211",
         "LGA",
         "IAH",
         "227.0",
         "1416",
         "5",
         "29",
         "2013-01-01 05:00:00",
         "United Air Lines Inc."
        ],
        [
         "2",
         "2013",
         "1",
         "1",
         "542.0",
         "540",
         "2.0",
         "923.0",
         "850",
         "33.0",
         "AA",
         "1141",
         "N619AA",
         "JFK",
         "MIA",
         "160.0",
         "1089",
         "5",
         "40",
         "2013-01-01 05:00:00",
         "American Airlines Inc."
        ],
        [
         "3",
         "2013",
         "1",
         "1",
         "544.0",
         "545",
         "-1.0",
         "1004.0",
         "1022",
         "-18.0",
         "B6",
         "725",
         "N804JB",
         "JFK",
         "BQN",
         "183.0",
         "1576",
         "5",
         "45",
         "2013-01-01 05:00:00",
         "JetBlue Airways"
        ],
        [
         "4",
         "2013",
         "1",
         "1",
         "554.0",
         "600",
         "-6.0",
         "812.0",
         "837",
         "-25.0",
         "DL",
         "461",
         "N668DN",
         "LGA",
         "ATL",
         "116.0",
         "762",
         "6",
         "0",
         "2013-01-01 06:00:00",
         "Delta Air Lines Inc."
        ],
        [
         "5",
         "2013",
         "1",
         "1",
         "554.0",
         "558",
         "-4.0",
         "740.0",
         "728",
         "12.0",
         "UA",
         "1696",
         "N39463",
         "EWR",
         "ORD",
         "150.0",
         "719",
         "5",
         "58",
         "2013-01-01 05:00:00",
         "United Air Lines Inc."
        ],
        [
         "6",
         "2013",
         "1",
         "1",
         "555.0",
         "600",
         "-5.0",
         "913.0",
         "854",
         "19.0",
         "B6",
         "507",
         "N516JB",
         "EWR",
         "FLL",
         "158.0",
         "1065",
         "6",
         "0",
         "2013-01-01 06:00:00",
         "JetBlue Airways"
        ],
        [
         "7",
         "2013",
         "1",
         "1",
         "557.0",
         "600",
         "-3.0",
         "709.0",
         "723",
         "-14.0",
         "EV",
         "5708",
         "N829AS",
         "LGA",
         "IAD",
         "53.0",
         "229",
         "6",
         "0",
         "2013-01-01 06:00:00",
         "ExpressJet Airlines Inc."
        ],
        [
         "8",
         "2013",
         "1",
         "1",
         "557.0",
         "600",
         "-3.0",
         "838.0",
         "846",
         "-8.0",
         "B6",
         "79",
         "N593JB",
         "JFK",
         "MCO",
         "140.0",
         "944",
         "6",
         "0",
         "2013-01-01 06:00:00",
         "JetBlue Airways"
        ],
        [
         "9",
         "2013",
         "1",
         "1",
         "558.0",
         "600",
         "-2.0",
         "753.0",
         "745",
         "8.0",
         "AA",
         "301",
         "N3ALAA",
         "LGA",
         "ORD",
         "138.0",
         "733",
         "6",
         "0",
         "2013-01-01 06:00:00",
         "American Airlines Inc."
        ]
       ],
       "datasetInfos": [],
       "dbfsResultPath": null,
       "isJsonSchema": true,
       "metadata": {},
       "overflow": false,
       "plotOptions": {
        "customPlotOptions": {},
        "displayType": "table",
        "pivotAggregation": null,
        "pivotColumns": null,
        "xColumns": null,
        "yColumns": null
       },
       "removedWidgets": [],
       "schema": [
        {
         "metadata": "{}",
         "name": "id",
         "type": "\"string\""
        },
        {
         "metadata": "{}",
         "name": "year",
         "type": "\"string\""
        },
        {
         "metadata": "{}",
         "name": "month",
         "type": "\"string\""
        },
        {
         "metadata": "{}",
         "name": "day",
         "type": "\"string\""
        },
        {
         "metadata": "{}",
         "name": "dep_time",
         "type": "\"string\""
        },
        {
         "metadata": "{}",
         "name": "sched_dep_time",
         "type": "\"string\""
        },
        {
         "metadata": "{}",
         "name": "dep_delay",
         "type": "\"string\""
        },
        {
         "metadata": "{}",
         "name": "arr_time",
         "type": "\"string\""
        },
        {
         "metadata": "{}",
         "name": "sched_arr_time",
         "type": "\"string\""
        },
        {
         "metadata": "{}",
         "name": "arr_delay",
         "type": "\"string\""
        },
        {
         "metadata": "{}",
         "name": "carrier",
         "type": "\"string\""
        },
        {
         "metadata": "{}",
         "name": "flight",
         "type": "\"string\""
        },
        {
         "metadata": "{}",
         "name": "tailnum",
         "type": "\"string\""
        },
        {
         "metadata": "{}",
         "name": "origin",
         "type": "\"string\""
        },
        {
         "metadata": "{}",
         "name": "dest",
         "type": "\"string\""
        },
        {
         "metadata": "{}",
         "name": "air_time",
         "type": "\"string\""
        },
        {
         "metadata": "{}",
         "name": "distance",
         "type": "\"string\""
        },
        {
         "metadata": "{}",
         "name": "hour",
         "type": "\"string\""
        },
        {
         "metadata": "{}",
         "name": "minute",
         "type": "\"string\""
        },
        {
         "metadata": "{}",
         "name": "time_hour",
         "type": "\"string\""
        },
        {
         "metadata": "{}",
         "name": "name",
         "type": "\"string\""
        }
       ],
       "type": "table"
      }
     },
     "output_type": "display_data"
    }
   ],
   "source": [
    "# File location and type\n",
    "file_location = \"/FileStore/tables/airports_database.csv\"\n",
    "file_type = \"csv\"\n",
    "\n",
    "# CSV options\n",
    "infer_schema = \"false\"\n",
    "first_row_is_header = \"true\"\n",
    "delimiter = \",\"\n",
    "\n",
    "# The applied options are for CSV files. For other file types, these will be ignored.\n",
    "df = spark.read.format(file_type) \\\n",
    "  .option(\"inferSchema\", infer_schema) \\\n",
    "  .option(\"header\", first_row_is_header) \\\n",
    "  .option(\"sep\", delimiter) \\\n",
    "  .load(file_location)\n",
    "\n",
    "df.limit(10).display()"
   ]
  },
  {
   "cell_type": "markdown",
   "metadata": {
    "application/vnd.databricks.v1+cell": {
     "cellMetadata": {
      "byteLimit": 2048000,
      "rowLimit": 10000
     },
     "inputWidgets": {},
     "nuid": "949b5174-7f86-4381-9160-0d891461a5c2",
     "showTitle": false,
     "title": ""
    }
   },
   "source": [
    "Aqui estarei salvando como uma tabela delta na camada bronze."
   ]
  },
  {
   "cell_type": "code",
   "execution_count": null,
   "metadata": {
    "application/vnd.databricks.v1+cell": {
     "cellMetadata": {
      "byteLimit": 2048000,
      "rowLimit": 10000
     },
     "inputWidgets": {},
     "nuid": "05e5e667-733a-45a8-8ea3-c41df1dbee77",
     "showTitle": false,
     "title": ""
    }
   },
   "outputs": [],
   "source": [
    "df.write \\\n",
    "  .format(\"delta\") \\\n",
    "  .mode(\"overwrite\") \\\n",
    "  .option(\"overwriteSchema\", \"true\") \\\n",
    "  .saveAsTable(\"bronze_airports_database\")"
   ]
  },
  {
   "cell_type": "markdown",
   "metadata": {
    "application/vnd.databricks.v1+cell": {
     "cellMetadata": {
      "byteLimit": 2048000,
      "rowLimit": 10000
     },
     "inputWidgets": {},
     "nuid": "9f215731-1896-4fb6-bda5-9097a55bcfe7",
     "showTitle": false,
     "title": ""
    }
   },
   "source": [
    "Verificando se a nossa tabela foi corretamente criada por meio de uma consulta SQL que seleciona todos os dados da tabela e retorna as 10 primeiras linhas"
   ]
  },
  {
   "cell_type": "code",
   "execution_count": null,
   "metadata": {
    "application/vnd.databricks.v1+cell": {
     "cellMetadata": {
      "byteLimit": 2048000,
      "implicitDf": true,
      "rowLimit": 10000
     },
     "inputWidgets": {},
     "nuid": "b5f66379-6f7f-42ec-8e82-d0e0926a1721",
     "showTitle": false,
     "title": ""
    }
   },
   "outputs": [
    {
     "data": {
      "text/html": [
       "<style scoped>\n",
       "  .table-result-container {\n",
       "    max-height: 300px;\n",
       "    overflow: auto;\n",
       "  }\n",
       "  table, th, td {\n",
       "    border: 1px solid black;\n",
       "    border-collapse: collapse;\n",
       "  }\n",
       "  th, td {\n",
       "    padding: 5px;\n",
       "  }\n",
       "  th {\n",
       "    text-align: left;\n",
       "  }\n",
       "</style><div class='table-result-container'><table class='table-result'><thead style='background-color: white'><tr><th>id</th><th>year</th><th>month</th><th>day</th><th>dep_time</th><th>sched_dep_time</th><th>dep_delay</th><th>arr_time</th><th>sched_arr_time</th><th>arr_delay</th><th>carrier</th><th>flight</th><th>tailnum</th><th>origin</th><th>dest</th><th>air_time</th><th>distance</th><th>hour</th><th>minute</th><th>time_hour</th><th>name</th></tr></thead><tbody><tr><td>0</td><td>2013</td><td>1</td><td>1</td><td>517.0</td><td>515</td><td>2.0</td><td>830.0</td><td>819</td><td>11.0</td><td>UA</td><td>1545</td><td>N14228</td><td>EWR</td><td>IAH</td><td>227.0</td><td>1400</td><td>5</td><td>15</td><td>2013-01-01 05:00:00</td><td>United Air Lines Inc.</td></tr><tr><td>1</td><td>2013</td><td>1</td><td>1</td><td>533.0</td><td>529</td><td>4.0</td><td>850.0</td><td>830</td><td>20.0</td><td>UA</td><td>1714</td><td>N24211</td><td>LGA</td><td>IAH</td><td>227.0</td><td>1416</td><td>5</td><td>29</td><td>2013-01-01 05:00:00</td><td>United Air Lines Inc.</td></tr><tr><td>2</td><td>2013</td><td>1</td><td>1</td><td>542.0</td><td>540</td><td>2.0</td><td>923.0</td><td>850</td><td>33.0</td><td>AA</td><td>1141</td><td>N619AA</td><td>JFK</td><td>MIA</td><td>160.0</td><td>1089</td><td>5</td><td>40</td><td>2013-01-01 05:00:00</td><td>American Airlines Inc.</td></tr><tr><td>3</td><td>2013</td><td>1</td><td>1</td><td>544.0</td><td>545</td><td>-1.0</td><td>1004.0</td><td>1022</td><td>-18.0</td><td>B6</td><td>725</td><td>N804JB</td><td>JFK</td><td>BQN</td><td>183.0</td><td>1576</td><td>5</td><td>45</td><td>2013-01-01 05:00:00</td><td>JetBlue Airways</td></tr><tr><td>4</td><td>2013</td><td>1</td><td>1</td><td>554.0</td><td>600</td><td>-6.0</td><td>812.0</td><td>837</td><td>-25.0</td><td>DL</td><td>461</td><td>N668DN</td><td>LGA</td><td>ATL</td><td>116.0</td><td>762</td><td>6</td><td>0</td><td>2013-01-01 06:00:00</td><td>Delta Air Lines Inc.</td></tr><tr><td>5</td><td>2013</td><td>1</td><td>1</td><td>554.0</td><td>558</td><td>-4.0</td><td>740.0</td><td>728</td><td>12.0</td><td>UA</td><td>1696</td><td>N39463</td><td>EWR</td><td>ORD</td><td>150.0</td><td>719</td><td>5</td><td>58</td><td>2013-01-01 05:00:00</td><td>United Air Lines Inc.</td></tr><tr><td>6</td><td>2013</td><td>1</td><td>1</td><td>555.0</td><td>600</td><td>-5.0</td><td>913.0</td><td>854</td><td>19.0</td><td>B6</td><td>507</td><td>N516JB</td><td>EWR</td><td>FLL</td><td>158.0</td><td>1065</td><td>6</td><td>0</td><td>2013-01-01 06:00:00</td><td>JetBlue Airways</td></tr><tr><td>7</td><td>2013</td><td>1</td><td>1</td><td>557.0</td><td>600</td><td>-3.0</td><td>709.0</td><td>723</td><td>-14.0</td><td>EV</td><td>5708</td><td>N829AS</td><td>LGA</td><td>IAD</td><td>53.0</td><td>229</td><td>6</td><td>0</td><td>2013-01-01 06:00:00</td><td>ExpressJet Airlines Inc.</td></tr><tr><td>8</td><td>2013</td><td>1</td><td>1</td><td>557.0</td><td>600</td><td>-3.0</td><td>838.0</td><td>846</td><td>-8.0</td><td>B6</td><td>79</td><td>N593JB</td><td>JFK</td><td>MCO</td><td>140.0</td><td>944</td><td>6</td><td>0</td><td>2013-01-01 06:00:00</td><td>JetBlue Airways</td></tr><tr><td>9</td><td>2013</td><td>1</td><td>1</td><td>558.0</td><td>600</td><td>-2.0</td><td>753.0</td><td>745</td><td>8.0</td><td>AA</td><td>301</td><td>N3ALAA</td><td>LGA</td><td>ORD</td><td>138.0</td><td>733</td><td>6</td><td>0</td><td>2013-01-01 06:00:00</td><td>American Airlines Inc.</td></tr></tbody></table></div>"
      ]
     },
     "metadata": {
      "application/vnd.databricks.v1+output": {
       "addedWidgets": {},
       "aggData": [],
       "aggError": "",
       "aggOverflow": false,
       "aggSchema": [],
       "aggSeriesLimitReached": false,
       "aggType": "",
       "arguments": {},
       "columnCustomDisplayInfos": {},
       "data": [
        [
         "0",
         "2013",
         "1",
         "1",
         "517.0",
         "515",
         "2.0",
         "830.0",
         "819",
         "11.0",
         "UA",
         "1545",
         "N14228",
         "EWR",
         "IAH",
         "227.0",
         "1400",
         "5",
         "15",
         "2013-01-01 05:00:00",
         "United Air Lines Inc."
        ],
        [
         "1",
         "2013",
         "1",
         "1",
         "533.0",
         "529",
         "4.0",
         "850.0",
         "830",
         "20.0",
         "UA",
         "1714",
         "N24211",
         "LGA",
         "IAH",
         "227.0",
         "1416",
         "5",
         "29",
         "2013-01-01 05:00:00",
         "United Air Lines Inc."
        ],
        [
         "2",
         "2013",
         "1",
         "1",
         "542.0",
         "540",
         "2.0",
         "923.0",
         "850",
         "33.0",
         "AA",
         "1141",
         "N619AA",
         "JFK",
         "MIA",
         "160.0",
         "1089",
         "5",
         "40",
         "2013-01-01 05:00:00",
         "American Airlines Inc."
        ],
        [
         "3",
         "2013",
         "1",
         "1",
         "544.0",
         "545",
         "-1.0",
         "1004.0",
         "1022",
         "-18.0",
         "B6",
         "725",
         "N804JB",
         "JFK",
         "BQN",
         "183.0",
         "1576",
         "5",
         "45",
         "2013-01-01 05:00:00",
         "JetBlue Airways"
        ],
        [
         "4",
         "2013",
         "1",
         "1",
         "554.0",
         "600",
         "-6.0",
         "812.0",
         "837",
         "-25.0",
         "DL",
         "461",
         "N668DN",
         "LGA",
         "ATL",
         "116.0",
         "762",
         "6",
         "0",
         "2013-01-01 06:00:00",
         "Delta Air Lines Inc."
        ],
        [
         "5",
         "2013",
         "1",
         "1",
         "554.0",
         "558",
         "-4.0",
         "740.0",
         "728",
         "12.0",
         "UA",
         "1696",
         "N39463",
         "EWR",
         "ORD",
         "150.0",
         "719",
         "5",
         "58",
         "2013-01-01 05:00:00",
         "United Air Lines Inc."
        ],
        [
         "6",
         "2013",
         "1",
         "1",
         "555.0",
         "600",
         "-5.0",
         "913.0",
         "854",
         "19.0",
         "B6",
         "507",
         "N516JB",
         "EWR",
         "FLL",
         "158.0",
         "1065",
         "6",
         "0",
         "2013-01-01 06:00:00",
         "JetBlue Airways"
        ],
        [
         "7",
         "2013",
         "1",
         "1",
         "557.0",
         "600",
         "-3.0",
         "709.0",
         "723",
         "-14.0",
         "EV",
         "5708",
         "N829AS",
         "LGA",
         "IAD",
         "53.0",
         "229",
         "6",
         "0",
         "2013-01-01 06:00:00",
         "ExpressJet Airlines Inc."
        ],
        [
         "8",
         "2013",
         "1",
         "1",
         "557.0",
         "600",
         "-3.0",
         "838.0",
         "846",
         "-8.0",
         "B6",
         "79",
         "N593JB",
         "JFK",
         "MCO",
         "140.0",
         "944",
         "6",
         "0",
         "2013-01-01 06:00:00",
         "JetBlue Airways"
        ],
        [
         "9",
         "2013",
         "1",
         "1",
         "558.0",
         "600",
         "-2.0",
         "753.0",
         "745",
         "8.0",
         "AA",
         "301",
         "N3ALAA",
         "LGA",
         "ORD",
         "138.0",
         "733",
         "6",
         "0",
         "2013-01-01 06:00:00",
         "American Airlines Inc."
        ]
       ],
       "datasetInfos": [],
       "dbfsResultPath": null,
       "isJsonSchema": true,
       "metadata": {
        "dataframeName": "_sqldf",
        "executionCount": 36
       },
       "overflow": false,
       "plotOptions": {
        "customPlotOptions": {},
        "displayType": "table",
        "pivotAggregation": null,
        "pivotColumns": null,
        "xColumns": null,
        "yColumns": null
       },
       "removedWidgets": [],
       "schema": [
        {
         "metadata": "{}",
         "name": "id",
         "type": "\"string\""
        },
        {
         "metadata": "{}",
         "name": "year",
         "type": "\"string\""
        },
        {
         "metadata": "{}",
         "name": "month",
         "type": "\"string\""
        },
        {
         "metadata": "{}",
         "name": "day",
         "type": "\"string\""
        },
        {
         "metadata": "{}",
         "name": "dep_time",
         "type": "\"string\""
        },
        {
         "metadata": "{}",
         "name": "sched_dep_time",
         "type": "\"string\""
        },
        {
         "metadata": "{}",
         "name": "dep_delay",
         "type": "\"string\""
        },
        {
         "metadata": "{}",
         "name": "arr_time",
         "type": "\"string\""
        },
        {
         "metadata": "{}",
         "name": "sched_arr_time",
         "type": "\"string\""
        },
        {
         "metadata": "{}",
         "name": "arr_delay",
         "type": "\"string\""
        },
        {
         "metadata": "{}",
         "name": "carrier",
         "type": "\"string\""
        },
        {
         "metadata": "{}",
         "name": "flight",
         "type": "\"string\""
        },
        {
         "metadata": "{}",
         "name": "tailnum",
         "type": "\"string\""
        },
        {
         "metadata": "{}",
         "name": "origin",
         "type": "\"string\""
        },
        {
         "metadata": "{}",
         "name": "dest",
         "type": "\"string\""
        },
        {
         "metadata": "{}",
         "name": "air_time",
         "type": "\"string\""
        },
        {
         "metadata": "{}",
         "name": "distance",
         "type": "\"string\""
        },
        {
         "metadata": "{}",
         "name": "hour",
         "type": "\"string\""
        },
        {
         "metadata": "{}",
         "name": "minute",
         "type": "\"string\""
        },
        {
         "metadata": "{}",
         "name": "time_hour",
         "type": "\"string\""
        },
        {
         "metadata": "{}",
         "name": "name",
         "type": "\"string\""
        }
       ],
       "type": "table"
      }
     },
     "output_type": "display_data"
    }
   ],
   "source": [
    "%sql\n",
    "SELECT * FROM `bronze_airports_database` LIMIT 10;"
   ]
  },
  {
   "cell_type": "markdown",
   "metadata": {
    "application/vnd.databricks.v1+cell": {
     "cellMetadata": {
      "byteLimit": 2048000,
      "rowLimit": 10000
     },
     "inputWidgets": {},
     "nuid": "da7ad72e-52c8-4276-96bf-39da105d8c95",
     "showTitle": false,
     "title": ""
    }
   },
   "source": [
    "Consultando a quantidade de registros na nossa tabela bronze"
   ]
  },
  {
   "cell_type": "code",
   "execution_count": null,
   "metadata": {
    "application/vnd.databricks.v1+cell": {
     "cellMetadata": {
      "byteLimit": 2048000,
      "implicitDf": true,
      "rowLimit": 10000
     },
     "inputWidgets": {},
     "nuid": "697656d8-4ba9-4b76-aba6-597f1f04e4eb",
     "showTitle": false,
     "title": ""
    }
   },
   "outputs": [
    {
     "data": {
      "text/html": [
       "<style scoped>\n",
       "  .table-result-container {\n",
       "    max-height: 300px;\n",
       "    overflow: auto;\n",
       "  }\n",
       "  table, th, td {\n",
       "    border: 1px solid black;\n",
       "    border-collapse: collapse;\n",
       "  }\n",
       "  th, td {\n",
       "    padding: 5px;\n",
       "  }\n",
       "  th {\n",
       "    text-align: left;\n",
       "  }\n",
       "</style><div class='table-result-container'><table class='table-result'><thead style='background-color: white'><tr><th>count(1)</th></tr></thead><tbody><tr><td>336776</td></tr></tbody></table></div>"
      ]
     },
     "metadata": {
      "application/vnd.databricks.v1+output": {
       "addedWidgets": {},
       "aggData": [],
       "aggError": "",
       "aggOverflow": false,
       "aggSchema": [],
       "aggSeriesLimitReached": false,
       "aggType": "",
       "arguments": {},
       "columnCustomDisplayInfos": {},
       "data": [
        [
         336776
        ]
       ],
       "datasetInfos": [],
       "dbfsResultPath": null,
       "isJsonSchema": true,
       "metadata": {
        "dataframeName": "_sqldf",
        "executionCount": 10
       },
       "overflow": false,
       "plotOptions": {
        "customPlotOptions": {},
        "displayType": "table",
        "pivotAggregation": null,
        "pivotColumns": null,
        "xColumns": null,
        "yColumns": null
       },
       "removedWidgets": [],
       "schema": [
        {
         "metadata": "{\"__autoGeneratedAlias\":\"true\"}",
         "name": "count(1)",
         "type": "\"long\""
        }
       ],
       "type": "table"
      }
     },
     "output_type": "display_data"
    }
   ],
   "source": [
    "%sql\n",
    "SELECT COUNT(*) FROM `bronze_airports_database`;"
   ]
  },
  {
   "cell_type": "markdown",
   "metadata": {
    "application/vnd.databricks.v1+cell": {
     "cellMetadata": {},
     "inputWidgets": {},
     "nuid": "6ad91e01-27f4-40c4-b101-b6504402bfbd",
     "showTitle": false,
     "title": ""
    }
   },
   "source": [
    "# 3. Perguntas"
   ]
  },
  {
   "cell_type": "markdown",
   "metadata": {
    "application/vnd.databricks.v1+cell": {
     "cellMetadata": {},
     "inputWidgets": {},
     "nuid": "37396b9b-731b-475f-b656-8b802e966abf",
     "showTitle": false,
     "title": ""
    }
   },
   "source": [
    "**1.** Qual é o número total de voos no conjunto de dados?  \n",
    "**Resposta:** O conjunto de dados possui o registro de 336.776 voos."
   ]
  },
  {
   "cell_type": "code",
   "execution_count": null,
   "metadata": {
    "application/vnd.databricks.v1+cell": {
     "cellMetadata": {
      "byteLimit": 2048000,
      "rowLimit": 10000
     },
     "inputWidgets": {},
     "nuid": "7d182096-c849-41e8-b28e-ec462a334453",
     "showTitle": false,
     "title": ""
    }
   },
   "outputs": [
    {
     "data": {
      "text/plain": [
       "336776"
      ]
     },
     "execution_count": 75,
     "metadata": {},
     "output_type": "execute_result"
    }
   ],
   "source": [
    "df.count()"
   ]
  },
  {
   "cell_type": "markdown",
   "metadata": {
    "application/vnd.databricks.v1+cell": {
     "cellMetadata": {},
     "inputWidgets": {},
     "nuid": "92387cb5-7b37-4785-91e5-87f889b13663",
     "showTitle": false,
     "title": ""
    }
   },
   "source": [
    "**2.** Quantos voos foram cancelados? (Considerando que voos cancelados têm `dep_time` e `arr_time` nulos)  \n",
    "**Resposta:** 8255 voos foram cancelados."
   ]
  },
  {
   "cell_type": "code",
   "execution_count": null,
   "metadata": {
    "application/vnd.databricks.v1+cell": {
     "cellMetadata": {
      "byteLimit": 2048000,
      "rowLimit": 10000
     },
     "inputWidgets": {},
     "nuid": "b23c77e4-f248-404e-8ec3-cf269a6101cf",
     "showTitle": false,
     "title": ""
    }
   },
   "outputs": [
    {
     "data": {
      "text/plain": [
       "8255"
      ]
     },
     "execution_count": 81,
     "metadata": {},
     "output_type": "execute_result"
    }
   ],
   "source": [
    "from pyspark.sql.functions import col\n",
    "df.filter(col(\"dep_time\").isNull() & col(\"arr_time\").isNull()).count()\n"
   ]
  },
  {
   "cell_type": "markdown",
   "metadata": {
    "application/vnd.databricks.v1+cell": {
     "cellMetadata": {},
     "inputWidgets": {},
     "nuid": "1a16e412-0c73-4d7b-a460-3159e8d8985a",
     "showTitle": false,
     "title": ""
    }
   },
   "source": [
    "**3.** Qual é o atraso médio na partida dos voos (`dep_delay`)?  \n",
    "**Resposta:** O atraso médio é de 12.64 minutos."
   ]
  },
  {
   "cell_type": "code",
   "execution_count": null,
   "metadata": {
    "application/vnd.databricks.v1+cell": {
     "cellMetadata": {
      "byteLimit": 2048000,
      "rowLimit": 10000
     },
     "inputWidgets": {},
     "nuid": "bbfa69c0-9513-433a-91d1-bd16142ebda2",
     "showTitle": false,
     "title": ""
    }
   },
   "outputs": [
    {
     "name": "stdout",
     "output_type": "stream",
     "text": [
      "+------------------+\n",
      "|    avg(dep_delay)|\n",
      "+------------------+\n",
      "|12.639070257304708|\n",
      "+------------------+\n",
      "\n"
     ]
    }
   ],
   "source": [
    "from pyspark.sql.functions import mean\n",
    "df.select(mean(col(\"dep_delay\"))).show()"
   ]
  },
  {
   "cell_type": "markdown",
   "metadata": {
    "application/vnd.databricks.v1+cell": {
     "cellMetadata": {},
     "inputWidgets": {},
     "nuid": "2a0515dd-7293-42b6-8948-2a85717a0d71",
     "showTitle": false,
     "title": ""
    }
   },
   "source": [
    "4. Quais são os 5 aeroportos com maior número de pousos?"
   ]
  },
  {
   "cell_type": "code",
   "execution_count": null,
   "metadata": {
    "application/vnd.databricks.v1+cell": {
     "cellMetadata": {
      "byteLimit": 2048000,
      "rowLimit": 10000
     },
     "inputWidgets": {},
     "nuid": "cf0d3672-8d20-4972-b4d7-bbde8551b35b",
     "showTitle": false,
     "title": ""
    }
   },
   "outputs": [
    {
     "name": "stdout",
     "output_type": "stream",
     "text": [
      "+----+-----+\n",
      "|dest|count|\n",
      "+----+-----+\n",
      "| ORD|17283|\n",
      "| ATL|17215|\n",
      "| LAX|16174|\n",
      "| BOS|15508|\n",
      "| MCO|14082|\n",
      "+----+-----+\n",
      "\n"
     ]
    }
   ],
   "source": [
    "df.groupBy('dest').count().sort('count', ascending=False).limit(5).show()"
   ]
  },
  {
   "cell_type": "markdown",
   "metadata": {
    "application/vnd.databricks.v1+cell": {
     "cellMetadata": {},
     "inputWidgets": {},
     "nuid": "183e55a8-fcc7-46cb-9437-ae2ee33f5818",
     "showTitle": false,
     "title": ""
    }
   },
   "source": [
    "**5.** Qual é a rota mais frequente (par origin-dest)?  \n",
    "**Resposta:** A rota mais frequente é a de JFK para LAX com 11.262 voos."
   ]
  },
  {
   "cell_type": "code",
   "execution_count": null,
   "metadata": {
    "application/vnd.databricks.v1+cell": {
     "cellMetadata": {
      "byteLimit": 2048000,
      "rowLimit": 10000
     },
     "inputWidgets": {},
     "nuid": "71ef5f93-cb1d-4efb-bcd2-42cac6a23271",
     "showTitle": false,
     "title": ""
    }
   },
   "outputs": [
    {
     "name": "stdout",
     "output_type": "stream",
     "text": [
      "+------+----+-----+\n",
      "|origin|dest|count|\n",
      "+------+----+-----+\n",
      "|   JFK| LAX|11262|\n",
      "+------+----+-----+\n",
      "\n"
     ]
    }
   ],
   "source": [
    "df.groupBy(['origin', 'dest']).count().sort('count', ascending=False).limit(1).show()"
   ]
  },
  {
   "cell_type": "markdown",
   "metadata": {
    "application/vnd.databricks.v1+cell": {
     "cellMetadata": {},
     "inputWidgets": {},
     "nuid": "a5fccf88-c651-4a59-8640-58998e5f6598",
     "showTitle": false,
     "title": ""
    }
   },
   "source": [
    "6. Quais são as 5 companhias aéreas com maior tempo médio de atraso na chegada? (Exiba também o tempo)"
   ]
  },
  {
   "cell_type": "code",
   "execution_count": null,
   "metadata": {
    "application/vnd.databricks.v1+cell": {
     "cellMetadata": {
      "byteLimit": 2048000,
      "rowLimit": 10000
     },
     "inputWidgets": {},
     "nuid": "cc30b261-5c70-4f33-9367-086f538e869b",
     "showTitle": false,
     "title": ""
    }
   },
   "outputs": [
    {
     "name": "stdout",
     "output_type": "stream",
     "text": [
      "+--------------------+------------------+\n",
      "|                name|    avg(arr_delay)|\n",
      "+--------------------+------------------+\n",
      "|Frontier Airlines...|21.920704845814978|\n",
      "|AirTran Airways C...|20.115905511811025|\n",
      "|ExpressJet Airlin...| 15.79643108710965|\n",
      "|  Mesa Airlines Inc.|15.556985294117647|\n",
      "|SkyWest Airlines ...|11.931034482758621|\n",
      "+--------------------+------------------+\n",
      "\n"
     ]
    }
   ],
   "source": [
    "from pyspark.sql import functions as F\n",
    "df.groupBy('name').agg(F.mean('arr_delay')).sort('avg(arr_delay)', ascending=False).limit(5).show()"
   ]
  },
  {
   "cell_type": "markdown",
   "metadata": {
    "application/vnd.databricks.v1+cell": {
     "cellMetadata": {},
     "inputWidgets": {},
     "nuid": "9ef9f5ab-4a15-4a8f-98e4-7ba3c74276ab",
     "showTitle": false,
     "title": ""
    }
   },
   "source": [
    "**7.** Qual é o dia da semana com maior número de voos?  \n",
    "**Resposta:** O dia da semana com mais voos é Segunda."
   ]
  },
  {
   "cell_type": "code",
   "execution_count": null,
   "metadata": {
    "application/vnd.databricks.v1+cell": {
     "cellMetadata": {
      "byteLimit": 2048000,
      "rowLimit": 10000
     },
     "inputWidgets": {},
     "nuid": "4ab390cb-d288-4817-8f6a-a5431603c920",
     "showTitle": false,
     "title": ""
    }
   },
   "outputs": [
    {
     "name": "stdout",
     "output_type": "stream",
     "text": [
      "+-------+-----+\n",
      "|weekday|count|\n",
      "+-------+-----+\n",
      "|      0|50690|\n",
      "+-------+-----+\n",
      "\n"
     ]
    }
   ],
   "source": [
    "# criando nova coluna\n",
    "def get_weekday(date):\n",
    "    \"\"\"\n",
    "    Retorna o dia da semana, onde Segunda é 0 e Domingo é 6\n",
    "    \"\"\"\n",
    "    date = datetime.strptime(date, \"%Y-%m-%d %H:%M:%S\")\n",
    "    return date.weekday()\n",
    "\n",
    "udf_function = udf(lambda date: get_weekday(date))\n",
    "\n",
    "new_df = df.withColumn('weekday', udf_function(df[\"time_hour\"]))\n",
    "\n",
    "# agrupando por dia da semana, contando a quantidade e retornando o resultado com o maior valor\n",
    "new_df.groupBy('weekday').count().sort('count', ascending=False).limit(1).show()"
   ]
  },
  {
   "cell_type": "markdown",
   "metadata": {
    "application/vnd.databricks.v1+cell": {
     "cellMetadata": {},
     "inputWidgets": {},
     "nuid": "5f706cbd-2c2c-478f-88c8-2629e7ee91f0",
     "showTitle": false,
     "title": ""
    }
   },
   "source": [
    "8. Qual o percentual mensal dos voos tiveram atraso na partida superior a 30 minutos?"
   ]
  },
  {
   "cell_type": "code",
   "execution_count": null,
   "metadata": {
    "application/vnd.databricks.v1+cell": {
     "cellMetadata": {
      "byteLimit": 2048000,
      "rowLimit": 10000
     },
     "inputWidgets": {},
     "nuid": "3aa61cec-b797-404b-860b-4528af9f33bf",
     "showTitle": false,
     "title": ""
    }
   },
   "outputs": [
    {
     "name": "stdout",
     "output_type": "stream",
     "text": [
      "+-----+-----------+---------------------+----------+\n",
      "|month|total_count|greater_than_30_count|percentage|\n",
      "+-----+-----------+---------------------+----------+\n",
      "|    7|      29425|                 6173|     20.98|\n",
      "|    6|      28243|                 5717|     20.24|\n",
      "|   12|      28135|                 4871|     17.31|\n",
      "|    4|      28330|                 4531|     15.99|\n",
      "|    5|      28796|                 4416|     15.34|\n",
      "|    3|      28834|                 4309|     14.94|\n",
      "|    8|      29327|                 4238|     14.45|\n",
      "|    2|      24951|                 3182|     12.75|\n",
      "|    1|      27004|                 3350|     12.41|\n",
      "|   10|      28889|                 2697|      9.34|\n",
      "|    9|      27574|                 2419|      8.77|\n",
      "|   11|      27268|                 2388|      8.76|\n",
      "+-----+-----------+---------------------+----------+\n",
      "\n"
     ]
    }
   ],
   "source": [
    "from pyspark.sql.functions import col, count, when, round\n",
    "\n",
    "monthly_counts = df.groupBy(\"month\") \\\n",
    "    .agg(\n",
    "        count(\"*\").alias(\"total_count\"),\n",
    "        count(when(col(\"dep_delay\") > 30, True)).alias(\"greater_than_30_count\")\n",
    "    )\n",
    "\n",
    "# Step 2: Calculate the percentage\n",
    "monthly_percentage = monthly_counts.withColumn(\n",
    "    \"percentage\", round((col(\"greater_than_30_count\") / col(\"total_count\")) * 100, 2)\n",
    ")\n",
    "\n",
    "# Show the result\n",
    "monthly_percentage.sort(\"percentage\", ascending=False).show()"
   ]
  },
  {
   "cell_type": "markdown",
   "metadata": {
    "application/vnd.databricks.v1+cell": {
     "cellMetadata": {},
     "inputWidgets": {},
     "nuid": "91607346-0414-4baf-972d-ce3974d96f5a",
     "showTitle": false,
     "title": ""
    }
   },
   "source": [
    "**9.** Qual a origem mais comum para voos que pousaram em Seattle (SEA)?  \n",
    "**Resposta:** A origem mais comum é de JFK."
   ]
  },
  {
   "cell_type": "code",
   "execution_count": null,
   "metadata": {
    "application/vnd.databricks.v1+cell": {
     "cellMetadata": {
      "byteLimit": 2048000,
      "rowLimit": 10000
     },
     "inputWidgets": {},
     "nuid": "a275e584-1717-4d99-b489-3c72651799bb",
     "showTitle": false,
     "title": ""
    }
   },
   "outputs": [
    {
     "name": "stdout",
     "output_type": "stream",
     "text": [
      "+------+-----+\n",
      "|origin|count|\n",
      "+------+-----+\n",
      "|   JFK| 2092|\n",
      "+------+-----+\n",
      "\n"
     ]
    }
   ],
   "source": [
    "sea_dest = df.filter(df.dest == \"SEA\")\n",
    "sea_dest.groupBy(\"origin\").count().sort(\"count\", ascending=False).limit(1).show()"
   ]
  },
  {
   "cell_type": "markdown",
   "metadata": {
    "application/vnd.databricks.v1+cell": {
     "cellMetadata": {},
     "inputWidgets": {},
     "nuid": "00ba48c7-fedb-4753-a472-fd71044de355",
     "showTitle": false,
     "title": ""
    }
   },
   "source": [
    "**10.** Qual é a média de atraso na partida dos voos (`dep_delay`) para cada dia da semana?"
   ]
  },
  {
   "cell_type": "code",
   "execution_count": null,
   "metadata": {
    "application/vnd.databricks.v1+cell": {
     "cellMetadata": {
      "byteLimit": 2048000,
      "rowLimit": 10000
     },
     "inputWidgets": {},
     "nuid": "09129dc1-60bf-4126-890f-ca8d0ed99239",
     "showTitle": false,
     "title": ""
    }
   },
   "outputs": [
    {
     "name": "stdout",
     "output_type": "stream",
     "text": [
      "+-------+------------------+\n",
      "|weekday|    avg(dep_delay)|\n",
      "+-------+------------------+\n",
      "|      3|16.148919990957108|\n",
      "|      0|14.778936729330908|\n",
      "|      4| 14.69605749486653|\n",
      "|      2|11.803512219083876|\n",
      "|      6|11.589531801152422|\n",
      "|      1|10.631682565455652|\n",
      "|      5| 7.650502333676133|\n",
      "+-------+------------------+\n",
      "\n"
     ]
    }
   ],
   "source": [
    "from pyspark.sql import functions as F\n",
    "new_df.groupBy('weekday').agg(F.mean('dep_delay')).sort('avg(dep_delay)', ascending=False).show()"
   ]
  },
  {
   "cell_type": "markdown",
   "metadata": {
    "application/vnd.databricks.v1+cell": {
     "cellMetadata": {},
     "inputWidgets": {},
     "nuid": "d2d7a80c-0475-4a39-8257-4b5b3349f613",
     "showTitle": false,
     "title": ""
    }
   },
   "source": [
    "**11.** Qual é a rota que teve o maior tempo de voo médio (`air_time`)?  \n",
    "**Resposta:** A rota com o maior tempo é a rota JFK -> HNL com tempo médio de 623 minutos."
   ]
  },
  {
   "cell_type": "code",
   "execution_count": null,
   "metadata": {
    "application/vnd.databricks.v1+cell": {
     "cellMetadata": {
      "byteLimit": 2048000,
      "rowLimit": 10000
     },
     "inputWidgets": {},
     "nuid": "92bc2c8d-16e6-4222-9ac3-e8ee036165e0",
     "showTitle": false,
     "title": ""
    }
   },
   "outputs": [
    {
     "name": "stdout",
     "output_type": "stream",
     "text": [
      "+------+----+-----------------+\n",
      "|origin|dest|    avg(air_time)|\n",
      "+------+----+-----------------+\n",
      "|   JFK| HNL|623.0877192982456|\n",
      "+------+----+-----------------+\n",
      "\n"
     ]
    }
   ],
   "source": [
    "new_df.groupBy([\"origin\", \"dest\"]).agg(F.mean('air_time')).sort('avg(air_time)', ascending=False).limit(1).show()"
   ]
  },
  {
   "cell_type": "markdown",
   "metadata": {
    "application/vnd.databricks.v1+cell": {
     "cellMetadata": {},
     "inputWidgets": {},
     "nuid": "cf071739-d143-45ed-b861-359645dd28c1",
     "showTitle": false,
     "title": ""
    }
   },
   "source": [
    "12. Para cada aeroporto de origem, qual é o aeroporto de destino mais comum?"
   ]
  },
  {
   "cell_type": "code",
   "execution_count": null,
   "metadata": {
    "application/vnd.databricks.v1+cell": {
     "cellMetadata": {
      "byteLimit": 2048000,
      "rowLimit": 10000
     },
     "inputWidgets": {},
     "nuid": "fc9069fb-e94b-44a3-b7c2-168b96254286",
     "showTitle": false,
     "title": ""
    }
   },
   "outputs": [
    {
     "name": "stdout",
     "output_type": "stream",
     "text": [
      "+------+----+-----+\n",
      "|origin|dest|count|\n",
      "+------+----+-----+\n",
      "|   EWR| ORD| 6100|\n",
      "|   JFK| LAX|11262|\n",
      "|   LGA| ATL|10263|\n",
      "+------+----+-----+\n",
      "\n"
     ]
    }
   ],
   "source": [
    "from pyspark.sql.functions import col, count, row_number\n",
    "from pyspark.sql.window import Window\n",
    "\n",
    "# Step 1: Count occurrences of each destination for each origin\n",
    "destination_counts = df.groupBy(\"origin\", \"dest\").agg(\n",
    "    count(\"*\").alias(\"count\")\n",
    ")\n",
    "\n",
    "# Step 2: Find the most common destination for each origin\n",
    "window_spec = Window.partitionBy(\"origin\").orderBy(col(\"count\").desc())\n",
    "most_common_destination = destination_counts.withColumn(\n",
    "    \"rank\", row_number().over(window_spec)\n",
    ").filter(col(\"rank\") == 1).drop(\"rank\")\n",
    "\n",
    "# Show the result\n",
    "most_common_destination.show()"
   ]
  },
  {
   "cell_type": "markdown",
   "metadata": {
    "application/vnd.databricks.v1+cell": {
     "cellMetadata": {},
     "inputWidgets": {},
     "nuid": "5e151a3e-6f5d-4c82-b3ce-6e2bba4ca2a1",
     "showTitle": false,
     "title": ""
    }
   },
   "source": [
    "13. Quais são as 3 rotas que tiveram a maior variação no tempo médio de voo (`air_time`)?"
   ]
  },
  {
   "cell_type": "code",
   "execution_count": null,
   "metadata": {
    "application/vnd.databricks.v1+cell": {
     "cellMetadata": {},
     "inputWidgets": {},
     "nuid": "68185688-865f-4923-a56d-533b06bf802f",
     "showTitle": false,
     "title": ""
    }
   },
   "outputs": [],
   "source": []
  },
  {
   "cell_type": "markdown",
   "metadata": {
    "application/vnd.databricks.v1+cell": {
     "cellMetadata": {},
     "inputWidgets": {},
     "nuid": "71f72630-dc59-49ff-9b59-c7ec874077c6",
     "showTitle": false,
     "title": ""
    }
   },
   "source": [
    "14. Qual é a média de atraso na chegada para voos que tiveram atraso na partida superior a 1 hora?"
   ]
  },
  {
   "cell_type": "code",
   "execution_count": null,
   "metadata": {
    "application/vnd.databricks.v1+cell": {
     "cellMetadata": {},
     "inputWidgets": {},
     "nuid": "b912d721-8d91-4024-adbb-deb7bf25e64e",
     "showTitle": false,
     "title": ""
    }
   },
   "outputs": [],
   "source": []
  },
  {
   "cell_type": "markdown",
   "metadata": {
    "application/vnd.databricks.v1+cell": {
     "cellMetadata": {},
     "inputWidgets": {},
     "nuid": "77f90f19-69db-4036-84bf-34f7658faa29",
     "showTitle": false,
     "title": ""
    }
   },
   "source": [
    "15. Qual é a média de voos diários para cada mês do ano?"
   ]
  },
  {
   "cell_type": "code",
   "execution_count": null,
   "metadata": {
    "application/vnd.databricks.v1+cell": {
     "cellMetadata": {},
     "inputWidgets": {},
     "nuid": "5bfa5bc9-9b91-4d7f-9fb3-3e5872be3de5",
     "showTitle": false,
     "title": ""
    }
   },
   "outputs": [],
   "source": []
  },
  {
   "cell_type": "markdown",
   "metadata": {
    "application/vnd.databricks.v1+cell": {
     "cellMetadata": {},
     "inputWidgets": {},
     "nuid": "8ecad89b-fa11-400e-8656-73ff8e554683",
     "showTitle": false,
     "title": ""
    }
   },
   "source": [
    "16. Quais são as 3 rotas mais comuns que tiveram atrasos na chegada superiores a 30 minutos?"
   ]
  },
  {
   "cell_type": "code",
   "execution_count": null,
   "metadata": {
    "application/vnd.databricks.v1+cell": {
     "cellMetadata": {},
     "inputWidgets": {},
     "nuid": "38935652-dd0c-4d94-a231-0c780aac62c1",
     "showTitle": false,
     "title": ""
    }
   },
   "outputs": [],
   "source": []
  },
  {
   "cell_type": "markdown",
   "metadata": {
    "application/vnd.databricks.v1+cell": {
     "cellMetadata": {},
     "inputWidgets": {},
     "nuid": "fb6f6327-9d5b-43f6-8ce6-ca5e8a01d87f",
     "showTitle": false,
     "title": ""
    }
   },
   "source": [
    "17. Para cada origem, qual o principal destino?"
   ]
  },
  {
   "cell_type": "code",
   "execution_count": null,
   "metadata": {
    "application/vnd.databricks.v1+cell": {
     "cellMetadata": {},
     "inputWidgets": {},
     "nuid": "57ae58de-3baf-402d-9d5a-62a67e1e7394",
     "showTitle": false,
     "title": ""
    }
   },
   "outputs": [],
   "source": []
  },
  {
   "cell_type": "markdown",
   "metadata": {
    "application/vnd.databricks.v1+cell": {
     "cellMetadata": {},
     "inputWidgets": {},
     "nuid": "d2591f50-952b-461b-965f-765a37a878cb",
     "showTitle": false,
     "title": ""
    }
   },
   "source": [
    "# 4. Enriquecimento da base de dados\n",
    "Duas APIs externas serão usadas para enriquecer a nossa base de dados\n",
    "* [Weatherbit API](https://www.weatherbit.io/): Fornece dados históricos sobre as condições meteorológicas.\n",
    "* [AirportDB API](https://airportdb.io/): Fornece informações detalhadas sobre aeroportos, incluindo\n",
    "coordenadas geográficas."
   ]
  },
  {
   "cell_type": "markdown",
   "metadata": {
    "application/vnd.databricks.v1+cell": {
     "cellMetadata": {},
     "inputWidgets": {},
     "nuid": "6931556e-7706-4f50-a366-6da9e06a3ca9",
     "showTitle": false,
     "title": ""
    }
   },
   "source": [
    "Primeiramente, iremos coletar os dados dos aeroportos, para isso irei retornar todos os valores únicos das colunas `origin` e `dest`."
   ]
  },
  {
   "cell_type": "code",
   "execution_count": null,
   "metadata": {
    "application/vnd.databricks.v1+cell": {
     "cellMetadata": {
      "byteLimit": 2048000,
      "rowLimit": 10000
     },
     "inputWidgets": {},
     "nuid": "16022bf1-7b54-492a-9288-926fd4a4c7f1",
     "showTitle": false,
     "title": ""
    }
   },
   "outputs": [
    {
     "name": "stdout",
     "output_type": "stream",
     "text": [
      "+------+\n",
      "|origin|\n",
      "+------+\n",
      "|   LGA|\n",
      "|   EWR|\n",
      "|   JFK|\n",
      "|   PSE|\n",
      "|   MSY|\n",
      "|   SNA|\n",
      "|   BUR|\n",
      "|   GRR|\n",
      "|   MYR|\n",
      "|   GSO|\n",
      "+------+\n",
      "only showing top 10 rows\n",
      "\n"
     ]
    }
   ],
   "source": [
    "airports = df.select(\"origin\").distinct().union(df.select(\"dest\").distinct()).distinct()\n",
    "airports.show(10)"
   ]
  },
  {
   "cell_type": "code",
   "execution_count": null,
   "metadata": {
    "application/vnd.databricks.v1+cell": {
     "cellMetadata": {
      "byteLimit": 2048000,
      "rowLimit": 10000
     },
     "inputWidgets": {},
     "nuid": "a0789560-4db9-4e6c-852b-f5ac9e89d4c8",
     "showTitle": false,
     "title": ""
    }
   },
   "outputs": [],
   "source": [
    "import requests\n",
    "\n",
    "def request_airportDB(airport):\n",
    "    airportdb_key = 'YOUR_API_KEY'\n",
    "\n",
    "    response = requests.get(url=f'https://airportdb.io/api/v1/airport/K{airport}?apiToken={airportdb_key}')\n",
    "    return response.json()\n",
    "\n",
    "air = request_airportDB(\"JFK\")"
   ]
  },
  {
   "cell_type": "code",
   "execution_count": null,
   "metadata": {
    "application/vnd.databricks.v1+cell": {
     "cellMetadata": {
      "byteLimit": 2048000,
      "rowLimit": 10000
     },
     "inputWidgets": {},
     "nuid": "bb072309-faa7-40a1-9e3f-daadcfb0edba",
     "showTitle": false,
     "title": ""
    }
   },
   "outputs": [
    {
     "data": {
      "text/plain": [
       "{'ident': 'KJFK',\n",
       " 'type': 'large_airport',\n",
       " 'name': 'John F Kennedy International Airport',\n",
       " 'latitude_deg': 40.639801,\n",
       " 'longitude_deg': -73.7789,\n",
       " 'elevation_ft': '13',\n",
       " 'continent': 'NA',\n",
       " 'iso_country': 'US',\n",
       " 'iso_region': 'US-NY',\n",
       " 'municipality': 'New York',\n",
       " 'scheduled_service': 'yes',\n",
       " 'gps_code': 'KJFK',\n",
       " 'iata_code': 'JFK',\n",
       " 'local_code': 'JFK',\n",
       " 'home_link': 'https://www.jfkairport.com/',\n",
       " 'wikipedia_link': 'https://en.wikipedia.org/wiki/John_F._Kennedy_International_Airport',\n",
       " 'keywords': 'Manhattan, New York City, NYC, Idlewild',\n",
       " 'icao_code': 'KJFK',\n",
       " 'runways': [{'id': '244968',\n",
       "   'airport_ref': '3622',\n",
       "   'airport_ident': 'KJFK',\n",
       "   'length_ft': '12079',\n",
       "   'width_ft': '200',\n",
       "   'surface': 'Concrete - Grooved',\n",
       "   'lighted': '1',\n",
       "   'closed': '0',\n",
       "   'le_ident': '04L',\n",
       "   'le_latitude_deg': '40.622',\n",
       "   'le_longitude_deg': '-73.7856',\n",
       "   'le_elevation_ft': '12',\n",
       "   'le_heading_degT': '31',\n",
       "   'le_displaced_threshold_ft': '',\n",
       "   'he_ident': '22R',\n",
       "   'he_latitude_deg': '40.6488',\n",
       "   'he_longitude_deg': '-73.7647',\n",
       "   'he_elevation_ft': '13',\n",
       "   'he_heading_degT': '211',\n",
       "   'he_displaced_threshold_ft': '2696',\n",
       "   'he_ils': {'freq': 109.5, 'course': 224},\n",
       "   'le_ils': {'freq': 110.9, 'course': 44}},\n",
       "  {'id': '244967',\n",
       "   'airport_ref': '3622',\n",
       "   'airport_ident': 'KJFK',\n",
       "   'length_ft': '8400',\n",
       "   'width_ft': '200',\n",
       "   'surface': 'ASP',\n",
       "   'lighted': '1',\n",
       "   'closed': '0',\n",
       "   'le_ident': '04R',\n",
       "   'le_latitude_deg': '40.6254',\n",
       "   'le_longitude_deg': '-73.7703',\n",
       "   'le_elevation_ft': '13',\n",
       "   'le_heading_degT': '30.6',\n",
       "   'le_displaced_threshold_ft': '',\n",
       "   'he_ident': '22L',\n",
       "   'he_latitude_deg': '40.6452',\n",
       "   'he_longitude_deg': '-73.7549',\n",
       "   'he_elevation_ft': '13',\n",
       "   'he_heading_degT': '210.6',\n",
       "   'he_displaced_threshold_ft': '',\n",
       "   'he_ils': {'freq': 110.9, 'course': 224},\n",
       "   'le_ils': {'freq': 109.5, 'course': 44}},\n",
       "  {'id': '244970',\n",
       "   'airport_ref': '3622',\n",
       "   'airport_ident': 'KJFK',\n",
       "   'length_ft': '10000',\n",
       "   'width_ft': '200',\n",
       "   'surface': 'Concrete',\n",
       "   'lighted': '1',\n",
       "   'closed': '0',\n",
       "   'le_ident': '13L',\n",
       "   'le_latitude_deg': '40.6578',\n",
       "   'le_longitude_deg': '-73.7902',\n",
       "   'le_elevation_ft': '13',\n",
       "   'le_heading_degT': '121',\n",
       "   'le_displaced_threshold_ft': '905',\n",
       "   'he_ident': '31R',\n",
       "   'he_latitude_deg': '40.6437',\n",
       "   'he_longitude_deg': '-73.7593',\n",
       "   'he_elevation_ft': '13',\n",
       "   'he_heading_degT': '301',\n",
       "   'he_displaced_threshold_ft': '1030',\n",
       "   'he_ils': {'freq': 111.5, 'course': 314},\n",
       "   'le_ils': {'freq': 111.5, 'course': 134}},\n",
       "  {'id': '244969',\n",
       "   'airport_ref': '3622',\n",
       "   'airport_ident': 'KJFK',\n",
       "   'length_ft': '14511',\n",
       "   'width_ft': '200',\n",
       "   'surface': 'Concrete',\n",
       "   'lighted': '1',\n",
       "   'closed': '0',\n",
       "   'le_ident': '13R',\n",
       "   'le_latitude_deg': '40.6484',\n",
       "   'le_longitude_deg': '-73.8167',\n",
       "   'le_elevation_ft': '13',\n",
       "   'le_heading_degT': '121',\n",
       "   'le_displaced_threshold_ft': '2043',\n",
       "   'he_ident': '31L',\n",
       "   'he_latitude_deg': '40.6279',\n",
       "   'he_longitude_deg': '-73.7716',\n",
       "   'he_elevation_ft': '13',\n",
       "   'he_heading_degT': '301',\n",
       "   'he_displaced_threshold_ft': '3263',\n",
       "   'he_ils': {'freq': 111.35, 'course': 314}}],\n",
       " 'freqs': [{'id': '69293',\n",
       "   'airport_ref': '3622',\n",
       "   'airport_ident': 'KJFK',\n",
       "   'type': 'APP',\n",
       "   'description': 'NEW YORK APP (ROBER)',\n",
       "   'frequency_mhz': '125.7'},\n",
       "  {'id': '301312',\n",
       "   'airport_ref': '3622',\n",
       "   'airport_ident': 'KJFK',\n",
       "   'type': 'APP',\n",
       "   'description': 'NEW YORK APPROACH (CAMRN)',\n",
       "   'frequency_mhz': '127.4'},\n",
       "  {'id': '301313',\n",
       "   'airport_ref': '3622',\n",
       "   'airport_ident': 'KJFK',\n",
       "   'type': 'APP',\n",
       "   'description': 'NEW YORK APPROACH (FINAL)',\n",
       "   'frequency_mhz': '132.4'},\n",
       "  {'id': '69294',\n",
       "   'airport_ref': '3622',\n",
       "   'airport_ident': 'KJFK',\n",
       "   'type': 'ATIS',\n",
       "   'description': 'ATIS',\n",
       "   'frequency_mhz': '115.1'},\n",
       "  {'id': '69295',\n",
       "   'airport_ref': '3622',\n",
       "   'airport_ident': 'KJFK',\n",
       "   'type': 'CLD',\n",
       "   'description': 'CLNC DEL',\n",
       "   'frequency_mhz': '135.05'},\n",
       "  {'id': '69296',\n",
       "   'airport_ref': '3622',\n",
       "   'airport_ident': 'KJFK',\n",
       "   'type': 'DEP',\n",
       "   'description': 'NEW YORK DEP',\n",
       "   'frequency_mhz': '135.9'},\n",
       "  {'id': '332895',\n",
       "   'airport_ref': '3622',\n",
       "   'airport_ident': 'KJFK',\n",
       "   'type': 'GND',\n",
       "   'description': 'GND ALT',\n",
       "   'frequency_mhz': '121.65'},\n",
       "  {'id': '69297',\n",
       "   'airport_ref': '3622',\n",
       "   'airport_ident': 'KJFK',\n",
       "   'type': 'GND',\n",
       "   'description': 'GND',\n",
       "   'frequency_mhz': '121.9'},\n",
       "  {'id': '69298',\n",
       "   'airport_ref': '3622',\n",
       "   'airport_ident': 'KJFK',\n",
       "   'type': 'RDO',\n",
       "   'description': 'NEW YORK RDO',\n",
       "   'frequency_mhz': '115.9'},\n",
       "  {'id': '69299',\n",
       "   'airport_ref': '3622',\n",
       "   'airport_ident': 'KJFK',\n",
       "   'type': 'TWR',\n",
       "   'description': 'KENNEDY TWR',\n",
       "   'frequency_mhz': '119.1'},\n",
       "  {'id': '332894',\n",
       "   'airport_ref': '3622',\n",
       "   'airport_ident': 'KJFK',\n",
       "   'type': 'TWR',\n",
       "   'description': 'TWR ALT',\n",
       "   'frequency_mhz': '123.9'},\n",
       "  {'id': '69300',\n",
       "   'airport_ref': '3622',\n",
       "   'airport_ident': 'KJFK',\n",
       "   'type': 'UNIC',\n",
       "   'description': 'UNICOM',\n",
       "   'frequency_mhz': '122.95'}],\n",
       " 'country': {'id': '302755',\n",
       "  'code': 'US',\n",
       "  'name': 'United States',\n",
       "  'continent': 'NA',\n",
       "  'wikipedia_link': 'https://en.wikipedia.org/wiki/United_States',\n",
       "  'keywords': 'America'},\n",
       " 'region': {'id': '306110',\n",
       "  'code': 'US-NY',\n",
       "  'local_code': 'NY',\n",
       "  'name': 'New York',\n",
       "  'continent': 'NA',\n",
       "  'iso_country': 'US',\n",
       "  'wikipedia_link': 'https://en.wikipedia.org/wiki/New_York',\n",
       "  'keywords': ''},\n",
       " 'navaids': [{'id': '87031',\n",
       "   'filename': 'Canarsie_VOR-DME_US',\n",
       "   'ident': 'CRI',\n",
       "   'name': 'Canarsie',\n",
       "   'type': 'VOR-DME',\n",
       "   'frequency_khz': '112300',\n",
       "   'latitude_deg': '40.61249923706055',\n",
       "   'longitude_deg': '-73.89440155029297',\n",
       "   'elevation_ft': '10',\n",
       "   'iso_country': 'US',\n",
       "   'dme_frequency_khz': '112300',\n",
       "   'dme_channel': '070X',\n",
       "   'dme_latitude_deg': '',\n",
       "   'dme_longitude_deg': '',\n",
       "   'dme_elevation_ft': '',\n",
       "   'slaved_variation_deg': '-11.001',\n",
       "   'magnetic_variation_deg': '-13.134',\n",
       "   'usageType': 'TERMINAL',\n",
       "   'power': 'LOW',\n",
       "   'associated_airport': 'KJFK'},\n",
       "  {'id': '89475',\n",
       "   'filename': 'Kennedy_VOR-DME_US',\n",
       "   'ident': 'JFK',\n",
       "   'name': 'Kennedy',\n",
       "   'type': 'VOR-DME',\n",
       "   'frequency_khz': '115900',\n",
       "   'latitude_deg': '40.63290023803711',\n",
       "   'longitude_deg': '-73.77140045166016',\n",
       "   'elevation_ft': '11',\n",
       "   'iso_country': 'US',\n",
       "   'dme_frequency_khz': '115900',\n",
       "   'dme_channel': '106X',\n",
       "   'dme_latitude_deg': '',\n",
       "   'dme_longitude_deg': '',\n",
       "   'dme_elevation_ft': '',\n",
       "   'slaved_variation_deg': '-12.001',\n",
       "   'magnetic_variation_deg': '-13.182',\n",
       "   'usageType': 'BOTH',\n",
       "   'power': 'HIGH',\n",
       "   'associated_airport': 'KJFK'}],\n",
       " 'station': {'icao_code': 'KJFK', 'distance': 0}}"
      ]
     },
     "execution_count": 171,
     "metadata": {},
     "output_type": "execute_result"
    }
   ],
   "source": [
    "air"
   ]
  },
  {
   "cell_type": "code",
   "execution_count": null,
   "metadata": {
    "application/vnd.databricks.v1+cell": {
     "cellMetadata": {
      "byteLimit": 2048000,
      "rowLimit": 10000
     },
     "inputWidgets": {},
     "nuid": "8f7c0726-f4cd-4d22-86b5-b29a21115006",
     "showTitle": false,
     "title": ""
    }
   },
   "outputs": [
    {
     "data": {
      "text/plain": [
       "{'city_id': '5128581',\n",
       " 'city_name': 'New York City',\n",
       " 'country_code': 'US',\n",
       " 'data': [{'clouds': 37,\n",
       "   'datetime': '2023-01-01',\n",
       "   'dewpt': 5.7,\n",
       "   'dhi': 27,\n",
       "   'dni': 230,\n",
       "   'ghi': 99,\n",
       "   'max_dhi': 92,\n",
       "   'max_dni': 773,\n",
       "   'max_ghi': 427,\n",
       "   'max_temp': 11.9,\n",
       "   'max_temp_ts': 1672603200,\n",
       "   'max_uv': 2.2,\n",
       "   'max_wind_dir': 120,\n",
       "   'max_wind_spd': 5,\n",
       "   'max_wind_spd_ts': 1672588800,\n",
       "   'min_temp': 7.3,\n",
       "   'min_temp_ts': 1672624800,\n",
       "   'precip': 0.4,\n",
       "   'precip_gpm': 0.4,\n",
       "   'pres': 1010,\n",
       "   'revision_status': 'final',\n",
       "   'rh': 77,\n",
       "   'slp': 1013,\n",
       "   'snow': 0,\n",
       "   'snow_depth': None,\n",
       "   'solar_rad': 97,\n",
       "   't_dhi': 639,\n",
       "   't_dni': 5510,\n",
       "   't_ghi': 2378,\n",
       "   't_solar_rad': 2317,\n",
       "   'temp': 9.8,\n",
       "   'ts': 1672549200,\n",
       "   'wind_dir': 120,\n",
       "   'wind_gust_spd': 8.2,\n",
       "   'wind_spd': 3}],\n",
       " 'lat': 40.7128,\n",
       " 'lon': -74.006,\n",
       " 'sources': ['997271-99999',\n",
       "  '720553-99999',\n",
       "  'imerg',\n",
       "  'era5',\n",
       "  'modis',\n",
       "  'snodas'],\n",
       " 'state_code': 'NY',\n",
       " 'station_id': '720553-99999',\n",
       " 'timezone': 'America/New_York'}"
      ]
     },
     "execution_count": 174,
     "metadata": {},
     "output_type": "execute_result"
    }
   ],
   "source": [
    "def request_weatherbit(lat, lon, start_date, end_date):\n",
    "    weatherbit_key = \"YOUR_API_KEY\"\n",
    "\n",
    "    url = 'https://api.weatherbit.io/v2.0/history/daily'\n",
    "\n",
    "    params = {\n",
    "        'lat': lat,\n",
    "        'lon': lon,\n",
    "        'start_date': start_date,\n",
    "        'end_date': end_date,\n",
    "        'key': weatherbit_key\n",
    "    }\n",
    "\n",
    "    headers = {\n",
    "        'Accept': 'application/json'\n",
    "    }\n",
    "\n",
    "    response = requests.get(url, params=params, headers=headers)\n",
    "\n",
    "    return response.json()\n",
    "\n",
    "lat = 40.7128\n",
    "lon = -74.0060\n",
    "start_date = '2023-01-01'\n",
    "end_date = '2023-01-02'\n",
    "\n",
    "wea = request_weatherbit(lat, lon, start_date, end_date)\n",
    "wea"
   ]
  }
 ],
 "metadata": {
  "application/vnd.databricks.v1+notebook": {
   "dashboards": [],
   "environmentMetadata": null,
   "language": "python",
   "notebookMetadata": {
    "mostRecentlyExecutedCommandWithImplicitDF": {
     "commandId": 3121108448902658,
     "dataframes": [
      "_sqldf"
     ]
    },
    "pythonIndentUnit": 4
   },
   "notebookName": "picpay_desafio_tecnico",
   "widgets": {}
  },
  "language_info": {
   "name": "python"
  }
 },
 "nbformat": 4,
 "nbformat_minor": 0
}
